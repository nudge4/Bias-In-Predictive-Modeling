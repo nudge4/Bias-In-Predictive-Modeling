{
 "cells": [
  {
   "cell_type": "code",
   "execution_count": 26,
   "metadata": {
    "collapsed": true
   },
   "outputs": [],
   "source": [
    "import pandas as pd\n",
    "import numpy as np"
   ]
  },
  {
   "cell_type": "code",
   "execution_count": 27,
   "metadata": {},
   "outputs": [
    {
     "data": {
      "text/plain": [
       "(1941502, 3)"
      ]
     },
     "execution_count": 27,
     "metadata": {},
     "output_type": "execute_result"
    }
   ],
   "source": [
    "all_vccsid_strm_1 = pd.read_stata(\"C:\\\\Users\\\\ys8mz\\\\Box Sync\\\\Clickstream\\\\data\\\\bias\\\\all_observations.dta\")\\\n",
    ".loc[:,['vccsid','strm']].drop_duplicates()\n",
    "all_vccsid_strm_2 = pd.read_stata(\"C:\\\\Users\\\\ys8mz\\\\Box Sync\\\\Clickstream\\\\data\\\\bias\\\\all_vccsid_strm.dta\")\n",
    "all_vccsid_strm = all_vccsid_strm_1.merge(all_vccsid_strm_2, on=['vccsid', 'strm'], how=\"inner\")\n",
    "all_vccsid_strm.shape"
   ]
  },
  {
   "cell_type": "code",
   "execution_count": 28,
   "metadata": {},
   "outputs": [
    {
     "data": {
      "text/plain": [
       "(310228, 0.15978762834135632)"
      ]
     },
     "execution_count": 28,
     "metadata": {},
     "output_type": "execute_result"
    }
   ],
   "source": [
    "sum(all_vccsid_strm.first_strm == all_vccsid_strm.strm), sum(all_vccsid_strm.first_strm == all_vccsid_strm.strm)/all_vccsid_strm.shape[0]"
   ]
  },
  {
   "cell_type": "code",
   "execution_count": 29,
   "metadata": {
    "collapsed": true
   },
   "outputs": [],
   "source": [
    "all_vccsid_strm.loc[:,'first_ind'] = all_vccsid_strm.apply(lambda x: x.strm == x.first_strm, axis=1).astype(int)\n",
    "all_vccsid_strm = all_vccsid_strm.drop(['first_strm'], axis=1)"
   ]
  },
  {
   "cell_type": "code",
   "execution_count": 30,
   "metadata": {},
   "outputs": [
    {
     "data": {
      "text/plain": [
       "Counter({0: 1631274, 1: 310228})"
      ]
     },
     "execution_count": 30,
     "metadata": {},
     "output_type": "execute_result"
    }
   ],
   "source": [
    "from collections import Counter\n",
    "Counter(all_vccsid_strm.first_ind)"
   ]
  },
  {
   "cell_type": "code",
   "execution_count": 31,
   "metadata": {
    "collapsed": true
   },
   "outputs": [],
   "source": [
    "d1 = pd.read_stata('C:\\\\Users\\\\ys8mz\\\\Box Sync\\\\Clickstream\\\\data\\\\bias\\\\age_gpa_earn.dta')\n",
    "d2 = pd.read_stata('C:\\\\Users\\\\ys8mz\\\\Box Sync\\\\Clickstream\\\\data\\\\bias\\\\four_additional_predictors.dta')\n",
    "d3 = pd.read_stata('C:\\\\Users\\\\ys8mz\\\\Box Sync\\\\Clickstream\\\\data\\\\bias\\\\twelve_additional_predictors.dta')\n",
    "d4 = pd.read_stata('C:\\\\Users\\\\ys8mz\\\\Box Sync\\\\Clickstream\\\\data\\\\bias\\\\trend_predictors.dta')\n",
    "d5 = pd.read_stata('C:\\\\Users\\\\ys8mz\\\\Box Sync\\\\Clickstream\\\\data\\\\bias\\\\ever_dually_enrolled.dta')"
   ]
  },
  {
   "cell_type": "code",
   "execution_count": 32,
   "metadata": {
    "collapsed": true
   },
   "outputs": [],
   "source": [
    "merged = all_vccsid_strm.merge(d1, how='inner', on=['vccsid','strm']).\\\n",
    "merge(d2, how='inner', on=['vccsid','strm']).\\\n",
    "merge(d3, how='inner', on=['vccsid','strm']).\\\n",
    "merge(d4, how='inner', on=['vccsid','strm']).\\\n",
    "merge(d5, how='inner', on=['vccsid','strm'])"
   ]
  },
  {
   "cell_type": "code",
   "execution_count": 33,
   "metadata": {},
   "outputs": [
    {
     "data": {
      "text/plain": [
       "(1941502, 23)"
      ]
     },
     "execution_count": 33,
     "metadata": {},
     "output_type": "execute_result"
    }
   ],
   "source": [
    "merged.shape"
   ]
  },
  {
   "cell_type": "code",
   "execution_count": 34,
   "metadata": {},
   "outputs": [],
   "source": [
    "merged_part1 = merged[merged.first_ind == 1]\n",
    "merged_part2 = merged[merged.first_ind == 0]"
   ]
  },
  {
   "cell_type": "code",
   "execution_count": 38,
   "metadata": {},
   "outputs": [],
   "source": [
    "merged_part1 = merged_part1.fillna(0)"
   ]
  },
  {
   "cell_type": "code",
   "execution_count": 39,
   "metadata": {},
   "outputs": [
    {
     "data": {
      "text/plain": [
       "vccsid                  False\n",
       "strm                    False\n",
       "first_ind               False\n",
       "cum_gpa                  True\n",
       "cum_cred_earn           False\n",
       "age                     False\n",
       "num_of_prior_terms      False\n",
       "pct_stopped             False\n",
       "pct_withdrawn           False\n",
       "pct_incomplete          False\n",
       "pct_dev                 False\n",
       "prop_comp_sd             True\n",
       "overall_prop_comp        True\n",
       "first_strm              False\n",
       "crnt_enrl_intensity     False\n",
       "enrl_intensity          False\n",
       "has_term_gpa_1          False\n",
       "term_gpa_1              False\n",
       "has_term_gpa_2          False\n",
       "term_gpa_2              False\n",
       "gpa_trend               False\n",
       "enrl_intensity_trend    False\n",
       "ever_dual               False\n",
       "dtype: bool"
      ]
     },
     "execution_count": 39,
     "metadata": {},
     "output_type": "execute_result"
    }
   ],
   "source": [
    "pd.isnull(merged_part2).any()"
   ]
  },
  {
   "cell_type": "code",
   "execution_count": 40,
   "metadata": {
    "collapsed": true
   },
   "outputs": [],
   "source": [
    "impute_list_1 = set([\"cum_gpa\", \"overall_prop_comp\", \"prop_comp_sd\"])"
   ]
  },
  {
   "cell_type": "code",
   "execution_count": 41,
   "metadata": {
    "collapsed": true
   },
   "outputs": [],
   "source": [
    "def impute(train, test):\n",
    "    for p in impute_list_1:\n",
    "        avg_p = np.nanmean(train[p])\n",
    "        train.loc[:,p] = train.loc[:,p].apply(lambda x: avg_p if pd.isnull(x) else x)\n",
    "        test.loc[:,p] = test.loc[:,p].apply(lambda x: avg_p if pd.isnull(x) else x)\n",
    "    return train, test               "
   ]
  },
  {
   "cell_type": "code",
   "execution_count": 42,
   "metadata": {},
   "outputs": [
    {
     "name": "stderr",
     "output_type": "stream",
     "text": [
      "C:\\Users\\ys8mz\\AppData\\Local\\Continuum\\Anaconda3\\lib\\site-packages\\pandas\\core\\indexing.py:543: SettingWithCopyWarning: \n",
      "A value is trying to be set on a copy of a slice from a DataFrame.\n",
      "Try using .loc[row_indexer,col_indexer] = value instead\n",
      "\n",
      "See the caveats in the documentation: http://pandas.pydata.org/pandas-docs/stable/indexing.html#indexing-view-versus-copy\n",
      "  self.obj[item] = s\n"
     ]
    }
   ],
   "source": [
    "train_df, test_df = impute(merged_part2[merged_part2.strm < 2192], merged_part2[merged_part2.strm >= 2192])\n",
    "merged_part2_new = pd.concat([train_df, test_df])"
   ]
  },
  {
   "cell_type": "code",
   "execution_count": 43,
   "metadata": {
    "collapsed": true
   },
   "outputs": [],
   "source": [
    "merged_new = pd.concat([merged_part1, merged_part2_new])"
   ]
  },
  {
   "cell_type": "code",
   "execution_count": 46,
   "metadata": {
    "collapsed": true
   },
   "outputs": [],
   "source": [
    "merged_new.to_csv(\"C:\\\\Users\\\\ys8mz\\\\Box Sync\\\\Clickstream\\\\data\\\\bias\\\\term_specific_predictors.csv\", index=False)"
   ]
  },
  {
   "cell_type": "code",
   "execution_count": 47,
   "metadata": {},
   "outputs": [
    {
     "data": {
      "text/plain": [
       "(1941502, 23)"
      ]
     },
     "execution_count": 47,
     "metadata": {},
     "output_type": "execute_result"
    }
   ],
   "source": [
    "assert pd.isnull(merged_new).any().any() == False\n",
    "merged_new.shape"
   ]
  },
  {
   "cell_type": "code",
   "execution_count": null,
   "metadata": {
    "collapsed": true
   },
   "outputs": [],
   "source": []
  }
 ],
 "metadata": {
  "kernelspec": {
   "display_name": "Python 3",
   "language": "python",
   "name": "python3"
  },
  "language_info": {
   "codemirror_mode": {
    "name": "ipython",
    "version": 3
   },
   "file_extension": ".py",
   "mimetype": "text/x-python",
   "name": "python",
   "nbconvert_exporter": "python",
   "pygments_lexer": "ipython3",
   "version": "3.5.3"
  }
 },
 "nbformat": 4,
 "nbformat_minor": 2
}
