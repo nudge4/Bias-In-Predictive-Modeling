{
 "cells": [
  {
   "cell_type": "code",
   "execution_count": 1,
   "metadata": {
    "collapsed": true
   },
   "outputs": [],
   "source": [
    "import pickle\n",
    "import glob\n",
    "import pandas as pd"
   ]
  },
  {
   "cell_type": "code",
   "execution_count": 2,
   "metadata": {
    "collapsed": true
   },
   "outputs": [],
   "source": [
    "enrl = glob.glob(\"C:\\\\Users\\\\ys8mz\\\\Box Sync\\\\Clickstream\\\\data\\\\bias\\\\term_enrl_intensity_trend_values\\*.p\")\n",
    "enrl_dict = {}\n",
    "for f in enrl:\n",
    "    d = pickle.load(open(f, \"rb\"))\n",
    "    enrl_dict = {**enrl_dict, **d}"
   ]
  },
  {
   "cell_type": "code",
   "execution_count": 3,
   "metadata": {
    "collapsed": true
   },
   "outputs": [],
   "source": [
    "gpa = glob.glob(\"C:\\\\Users\\\\ys8mz\\\\Box Sync\\\\Clickstream\\\\data\\\\bias\\\\term_gpa_trend_values\\*.p\")\n",
    "gpa_dict = {}\n",
    "for f in gpa:\n",
    "    d = pickle.load(open(f, \"rb\"))\n",
    "    gpa_dict = {**gpa_dict, **d}"
   ]
  },
  {
   "cell_type": "code",
   "execution_count": 4,
   "metadata": {
    "collapsed": true
   },
   "outputs": [],
   "source": [
    "enrl_df = pd.DataFrame.from_dict(enrl_dict, orient='index').reset_index()\n",
    "enrl_df.loc[:,'vccsid'] = enrl_df['index'].apply(lambda x: x[0])\n",
    "enrl_df.loc[:,'strm'] = enrl_df['index'].apply(lambda x: x[-1])\n",
    "enrl_df = enrl_df.drop(['index'], axis=1)\n",
    "enrl_df = enrl_df.rename(columns={0:'enrl_intensity_trend'})"
   ]
  },
  {
   "cell_type": "code",
   "execution_count": 5,
   "metadata": {
    "collapsed": true
   },
   "outputs": [],
   "source": [
    "gpa_df = pd.DataFrame.from_dict(gpa_dict, orient='index').reset_index()\n",
    "gpa_df.loc[:,'vccsid'] = gpa_df['index'].apply(lambda x: x[0])\n",
    "gpa_df.loc[:,'strm'] = gpa_df['index'].apply(lambda x: x[-1])\n",
    "gpa_df = gpa_df.drop(['index'], axis=1)\n",
    "gpa_df = gpa_df.rename(columns={0:'gpa_trend'})"
   ]
  },
  {
   "cell_type": "code",
   "execution_count": 6,
   "metadata": {
    "collapsed": true
   },
   "outputs": [],
   "source": [
    "trend_df = enrl_df.merge(gpa_df, how='inner', on=['vccsid', 'strm']).loc[:,['vccsid','strm','gpa_trend','enrl_intensity_trend']]"
   ]
  },
  {
   "cell_type": "code",
   "execution_count": 7,
   "metadata": {
    "collapsed": true
   },
   "outputs": [],
   "source": [
    "all_vccsid_strm = pd.read_stata(\"C:\\\\Users\\\\ys8mz\\\\Box Sync\\\\Clickstream\\\\data\\\\bias\\\\all_vccsid_strm.dta\").loc[:,['vccsid', 'strm']]"
   ]
  },
  {
   "cell_type": "code",
   "execution_count": 8,
   "metadata": {
    "collapsed": true
   },
   "outputs": [],
   "source": [
    "trend_df = all_vccsid_strm.merge(trend_df, how='left', on=['vccsid', 'strm']).sort_values(['vccsid','strm']).loc[:,['vccsid','strm','gpa_trend','enrl_intensity_trend']]"
   ]
  },
  {
   "cell_type": "code",
   "execution_count": 9,
   "metadata": {
    "collapsed": true
   },
   "outputs": [],
   "source": [
    "trend_df.to_stata(\"C:\\\\Users\\\\ys8mz\\\\Box Sync\\\\Clickstream\\\\data\\\\bias\\\\trend_predictors.dta\", write_index=False)"
   ]
  },
  {
   "cell_type": "code",
   "execution_count": null,
   "metadata": {
    "collapsed": true
   },
   "outputs": [],
   "source": []
  }
 ],
 "metadata": {
  "kernelspec": {
   "display_name": "Python 3",
   "language": "python",
   "name": "python3"
  },
  "language_info": {
   "codemirror_mode": {
    "name": "ipython",
    "version": 3
   },
   "file_extension": ".py",
   "mimetype": "text/x-python",
   "name": "python",
   "nbconvert_exporter": "python",
   "pygments_lexer": "ipython3",
   "version": "3.5.3"
  }
 },
 "nbformat": 4,
 "nbformat_minor": 2
}
