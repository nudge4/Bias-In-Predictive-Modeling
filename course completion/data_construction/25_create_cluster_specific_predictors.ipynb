{
 "cells": [
  {
   "cell_type": "code",
   "execution_count": 1,
   "metadata": {
    "collapsed": true
   },
   "outputs": [],
   "source": [
    "import pandas as pd\n",
    "import numpy as np"
   ]
  },
  {
   "cell_type": "code",
   "execution_count": 2,
   "metadata": {},
   "outputs": [
    {
     "data": {
      "text/plain": [
       "(5168903, 8)"
      ]
     },
     "execution_count": 2,
     "metadata": {},
     "output_type": "execute_result"
    }
   ],
   "source": [
    "all_vccsid_strm_1 = pd.read_stata(\"C:\\\\Users\\\\ys8mz\\\\Box Sync\\\\Clickstream\\\\data\\\\bias\\\\all_observations.dta\")\n",
    "all_vccsid_strm_2 = pd.read_stata(\"C:\\\\Users\\\\ys8mz\\\\Box Sync\\\\Clickstream\\\\data\\\\bias\\\\all_vccsid_strm.dta\")\n",
    "df1 = all_vccsid_strm_1.merge(all_vccsid_strm_2, on=['vccsid', 'strm'], how=\"inner\")\n",
    "df1.shape"
   ]
  },
  {
   "cell_type": "code",
   "execution_count": 3,
   "metadata": {
    "collapsed": true
   },
   "outputs": [],
   "source": [
    "df2 = pd.read_stata(\"C:\\\\Users\\\\ys8mz\\\\Box Sync\\\\Clickstream\\\\data\\\\bias\\\\prior_courses.dta\")"
   ]
  },
  {
   "cell_type": "code",
   "execution_count": 4,
   "metadata": {},
   "outputs": [
    {
     "data": {
      "text/plain": [
       "(5168903, 8)"
      ]
     },
     "execution_count": 4,
     "metadata": {},
     "output_type": "execute_result"
    }
   ],
   "source": [
    "df1 = df1[df1.course.apply(lambda x: len(x) == 7)]\n",
    "df1 = df1[df1.grade.apply(lambda x: x in {\"A\",\"B\",\"C\",\"D\",\"F\",\"W\"})]\n",
    "df1.shape"
   ]
  },
  {
   "cell_type": "code",
   "execution_count": 5,
   "metadata": {
    "collapsed": true
   },
   "outputs": [],
   "source": [
    "all_subjects = []\n",
    "for cn in list(df1.course) + list(df2.course):\n",
    "    all_subjects.append(cn.split(\"_\")[0])\n",
    "all_subjects = np.unique(all_subjects)"
   ]
  },
  {
   "cell_type": "code",
   "execution_count": 6,
   "metadata": {},
   "outputs": [
    {
     "data": {
      "text/plain": [
       "array(['ACC', 'ACQ', 'ADJ', 'AGR', 'AIR', 'AMT', 'APL', 'ARA', 'ARC',\n",
       "       'ARO', 'ART', 'ASL', 'AST', 'AUB', 'AUT', 'AVI', 'BCS', 'BIO',\n",
       "       'BLD', 'BSK', 'BUS', 'CAD', 'CHD', 'CHI', 'CHM', 'CIV', 'CON',\n",
       "       'COS', 'CRF', 'CSC', 'CSP', 'CST', 'DAN', 'DEC', 'DIA', 'DIT',\n",
       "       'DMS', 'DNA', 'DNH', 'DNL', 'DRF', 'DSL', 'ECO', 'EDU', 'EGR',\n",
       "       'EIP', 'ELE', 'EMS', 'EMT', 'ENE', 'ENF', 'ENG', 'ENV', 'EQU',\n",
       "       'ESL', 'ESR', 'ETR', 'FIN', 'FIR', 'FNS', 'FOR', 'FRE', 'FST',\n",
       "       'FUR', 'GEO', 'GER', 'GIS', 'GOL', 'GRE', 'GWR', 'HCT', 'HIM',\n",
       "       'HIN', 'HIS', 'HIT', 'HLT', 'HMS', 'HRI', 'HRT', 'HUM', 'HVE',\n",
       "       'IDS', 'IND', 'INS', 'INT', 'ISR', 'IST', 'ITA', 'ITD', 'ITE',\n",
       "       'ITN', 'ITP', 'JPN', 'KOR', 'LAT', 'LBR', 'LGL', 'MAC', 'MAR',\n",
       "       'MCR', 'MDA', 'MDL', 'MEC', 'MEN', 'MET', 'MIN', 'MKT', 'MRT',\n",
       "       'MSC', 'MTE', 'MTH', 'MTS', 'MTT', 'MUS', 'NAN', 'NAS', 'NSG',\n",
       "       'NUC', 'NUR', 'OCT', 'OMP', 'OPT', 'PBH', 'PBS', 'PED', 'PHI',\n",
       "       'PHT', 'PHY', 'PLS', 'PNE', 'PNG', 'PNT', 'POR', 'PPT', 'PSG',\n",
       "       'PSY', 'PTH', 'RAD', 'REA', 'REL', 'ROC', 'RPK', 'RTH', 'RUS',\n",
       "       'RVH', 'SAF', 'SCM', 'SCT', 'SDV', 'SIM', 'SOC', 'SPA', 'SPD',\n",
       "       'SSC', 'STD', 'SUR', 'TEL', 'TRK', 'TRV', 'UMS', 'VEN', 'VET',\n",
       "       'VTN', 'WEL'], dtype='<U3')"
      ]
     },
     "execution_count": 6,
     "metadata": {},
     "output_type": "execute_result"
    }
   ],
   "source": [
    "all_subjects"
   ]
  },
  {
   "cell_type": "code",
   "execution_count": 7,
   "metadata": {
    "collapsed": true
   },
   "outputs": [],
   "source": [
    "subj_dict = {'BUS': ['ACC', 'BUS', 'MKT', 'HRI', 'FIN', 'REA', 'ACQ', 'CON', 'ISR'],\n",
    "             'ART': ['ART', 'DAN', 'MUS', 'HRT', 'CRF', 'PHT', 'IDS', \"DEC\"],\n",
    "             'SCI': ['BIO', 'GOL', 'PHY', 'NAS', 'CHM', 'SCT'],\n",
    "             'EGR': ['EGR', 'CSC', 'ITD', 'ITE', 'ITN', 'ITP',\n",
    "                     'HIM', 'ENE', 'GIS', 'ENV', 'HIT', 'ARC',\n",
    "                     'ETR', 'AST', 'IND', 'IST', 'DRF', 'CAD', \n",
    "                     'TEL', 'MEC', 'AMT', 'ARO', 'CIV', \"INS\", 'NUC', 'UMS', \"AVI\", \"ESR\", \"NAN\", \"SIM\"],\n",
    "             'MTH': ['MTE', 'MTH', 'MTT', 'MCR', 'MDE'],\n",
    "             'SOC': ['EDU', 'SOC', 'ECO', 'GEO', 'HIS', 'PSY',\n",
    "                     'PLS', 'ADJ', 'LGL', 'CHD', 'SSC', \"PBS\", \"EIP\"],\n",
    "             'MED': ['EMS', 'NUR', 'HLT', 'PED', 'DMS', 'RAD', \n",
    "                     'EMT', 'PNE', 'DNA', 'SUR', 'NSG', 'HCT',\n",
    "                     'DNH', 'OCT', 'CSP', 'DIT', 'PSG', 'PNG',\n",
    "                     'PTH', 'MEN', 'MDL', 'RTH', \"MDA\", \"OPT\", \"ROC\", \"DNL\", \"OMP\", \"PBH\", \n",
    "                     'DIA'],\n",
    "             'HUM': ['HUM', 'CST', 'PHI', 'REL', 'ENG', 'ENF',\n",
    "                     'EDE', 'HMS', 'SDV', 'SPD', 'STD', 'SCM', 'MET'],\n",
    "             'FLA': ['ASL', 'ARA', 'FRE', 'GER', 'JPN', 'KOR',\n",
    "                     'ITA', 'LAT', 'SPA', 'CHI', 'ESL', 'RUS', 'INT', 'GRE', 'POR', 'VTN', \"HIN\"],\n",
    "             'OCC': ['FST', 'AGR', 'AIR', 'ARO', 'AUT', 'FOR',\n",
    "                     'FIR', 'WEL', 'VET', 'EQU', 'LBR', 'BCS',\n",
    "                     'BLD', 'BSK', 'COS', 'VEN', 'TRK', 'TRV',\n",
    "                     'PNT', 'MSC', 'MAR', 'MAC', 'ELE', 'RVH',\n",
    "                     'RPK', 'SAF', 'AUB', \"DSL\", 'FNS', \"MRT\",\n",
    "                     'MTS', 'RPK', \"FUR\", \"GWR\", \"MIN\", \"PPT\",\n",
    "                     'HVE', 'APL']}\n",
    "subj_inverse_dict = {e:k for k,v in subj_dict.items() for e in v}\n",
    "assert len(subj_inverse_dict) >= len(all_subjects)"
   ]
  },
  {
   "cell_type": "code",
   "execution_count": 8,
   "metadata": {
    "collapsed": true
   },
   "outputs": [],
   "source": [
    "df2.loc[:,'subject'] = df2.course.apply(lambda x: x.split(\"_\")[0])\n",
    "df2.loc[:,'cluster'] = df2.subject.apply(lambda x: subj_inverse_dict[x])\n",
    "df2.loc[:,'grade_point'] = df2.credit * df2.est_grade"
   ]
  },
  {
   "cell_type": "code",
   "execution_count": 9,
   "metadata": {
    "collapsed": true
   },
   "outputs": [],
   "source": [
    "cluster_dict = {}\n",
    "for strm in [2142, 2143, 2144, 2152, 2153, 2154, 2162, 2163, 2164, 2172, 2173, 2174, 2182, 2183, 2184, 2192, 2193, 2194]:\n",
    "    df2_sub = df2[df2.strm < strm].copy()\n",
    "    if df2_sub.shape[0] > 0:\n",
    "        df2_sub_agg = df2_sub.groupby(['vccsid', 'cluster']).agg({'credit':'sum', 'grade_point':'sum'}).reset_index()\n",
    "        df2_sub_agg.loc[:,'est_grade'] = df2_sub_agg.grade_point/df2_sub_agg.credit\n",
    "        for i in range(df2_sub_agg.shape[0]):\n",
    "            vccsid = df2_sub_agg.vccsid.iloc[i]\n",
    "            cluster = df2_sub_agg.cluster.iloc[i]\n",
    "            est_grade = df2_sub_agg.est_grade.iloc[i]\n",
    "            try:\n",
    "                cluster_dict[vccsid + \"_\" + str(strm)].append((cluster, est_grade))\n",
    "            except KeyError:\n",
    "                cluster_dict[vccsid + \"_\" + str(strm)] = [(cluster, est_grade)]"
   ]
  },
  {
   "cell_type": "code",
   "execution_count": 10,
   "metadata": {
    "collapsed": true
   },
   "outputs": [],
   "source": [
    "df1.loc[:,'subject'] = df1.course.apply(lambda x: x.split(\"_\")[0])\n",
    "df1.loc[:,'cluster'] = df1.subject.apply(lambda x: subj_inverse_dict[x])"
   ]
  },
  {
   "cell_type": "code",
   "execution_count": 11,
   "metadata": {
    "collapsed": true
   },
   "outputs": [],
   "source": [
    "full_cluster_dict = {}\n",
    "for i in range(df1.shape[0]):\n",
    "    vccsid = df1.vccsid.iloc[i]\n",
    "    strm = df1.strm.iloc[i]\n",
    "    college = df1.college.iloc[i]\n",
    "    course = df1.course.iloc[i]\n",
    "    section  = df1.section.iloc[i]\n",
    "    subject = df1.subject.iloc[i]\n",
    "    cluster = df1.cluster.iloc[i]\n",
    "    l = []\n",
    "    if vccsid + \"_\" + str(strm) in cluster_dict:\n",
    "        ll = cluster_dict[vccsid + \"_\" + str(strm)]\n",
    "        l = [(t[0]+\"_\"+cluster, t[1]) for t in ll]\n",
    "    d = {}\n",
    "    for t in l:\n",
    "        d[t[0]] = 1\n",
    "        d[t[0] + \"_grade\"] = t[1]\n",
    "    full_cluster_dict[\"-\".join([vccsid, str(strm), college, course, section])] = d.copy()"
   ]
  },
  {
   "cell_type": "code",
   "execution_count": 12,
   "metadata": {},
   "outputs": [],
   "source": [
    "full_cluster_df = pd.DataFrame.from_dict(full_cluster_dict, orient='index')\n",
    "for indx,var in enumerate(['vccsid','strm','college','course','section']):\n",
    "    full_cluster_df.loc[:,var] = list(pd.Series(list(full_cluster_df.index)).apply(lambda x: x.split(\"-\")[indx]))\n",
    "full_cluster_df.loc[:,'strm'] = full_cluster_df.strm.astype(int)\n",
    "full_cluster_df = df1.loc[:,['vccsid','strm','college','course','section']].merge(full_cluster_df, how='left',\n",
    "                                                                                  on = ['vccsid','strm','college','course','section']).fillna(0)"
   ]
  },
  {
   "cell_type": "code",
   "execution_count": 13,
   "metadata": {
    "collapsed": true
   },
   "outputs": [],
   "source": [
    "full_cluster_df.to_csv(\"C:\\\\Users\\\\ys8mz\\\\Box Sync\\\\Clickstream\\\\data\\\\bias\\\\cluster_specific_predictors.csv\", index=False)"
   ]
  },
  {
   "cell_type": "code",
   "execution_count": 14,
   "metadata": {},
   "outputs": [
    {
     "data": {
      "text/plain": [
       "(5168903, 205)"
      ]
     },
     "execution_count": 14,
     "metadata": {},
     "output_type": "execute_result"
    }
   ],
   "source": [
    "full_cluster_df.shape"
   ]
  },
  {
   "cell_type": "code",
   "execution_count": null,
   "metadata": {
    "collapsed": true
   },
   "outputs": [],
   "source": []
  }
 ],
 "metadata": {
  "kernelspec": {
   "display_name": "Python 3",
   "language": "python",
   "name": "python3"
  },
  "language_info": {
   "codemirror_mode": {
    "name": "ipython",
    "version": 3
   },
   "file_extension": ".py",
   "mimetype": "text/x-python",
   "name": "python",
   "nbconvert_exporter": "python",
   "pygments_lexer": "ipython3",
   "version": "3.5.3"
  }
 },
 "nbformat": 4,
 "nbformat_minor": 2
}
