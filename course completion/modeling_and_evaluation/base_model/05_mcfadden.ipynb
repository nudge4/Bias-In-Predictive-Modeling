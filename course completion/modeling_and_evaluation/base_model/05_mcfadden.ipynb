{
 "cells": [
  {
   "cell_type": "markdown",
   "metadata": {},
   "source": [
    "This script computes the McFadden's adjusted R^2 for the training sample, based on the base model."
   ]
  },
  {
   "cell_type": "code",
   "execution_count": 28,
   "metadata": {
    "collapsed": true
   },
   "outputs": [],
   "source": [
    "import numpy as np\n",
    "import pandas as pd"
   ]
  },
  {
   "cell_type": "code",
   "execution_count": 29,
   "metadata": {
    "collapsed": true
   },
   "outputs": [],
   "source": [
    "def mcfadden(real_y, pred_y, k):\n",
    "    L = np.where(real_y == 1, pred_y, 1 - pred_y)\n",
    "    l = np.sum(np.log(L))\n",
    "    L_null = np.where(real_y == 1, np.mean(real_y), 1 - np.mean(real_y))\n",
    "    l_null = np.sum(np.log(L_null))\n",
    "    return 1 - (l - k)/l_null"
   ]
  },
  {
   "cell_type": "code",
   "execution_count": 33,
   "metadata": {
    "collapsed": true
   },
   "outputs": [],
   "source": [
    "df = pd.read_stata(\"C:/Users/ys8mz/Downloads/all_predicted_scores_for_course_completion.dta\")\n",
    "df = df[df.original_sample == 'training']"
   ]
  },
  {
   "cell_type": "code",
   "execution_count": 34,
   "metadata": {
    "collapsed": true
   },
   "outputs": [],
   "source": [
    "k = 186"
   ]
  },
  {
   "cell_type": "code",
   "execution_count": 35,
   "metadata": {},
   "outputs": [
    {
     "name": "stdout",
     "output_type": "stream",
     "text": [
      "0.6735572775867129\n",
      "0.6674843117093662\n"
     ]
    }
   ],
   "source": [
    "white = df[df.race == \"white\"]\n",
    "print(mcfadden(np.array(white.binary_outcome), np.array(white.pred_score_1), k))\n",
    "afam = df[df.race == \"afam\"]\n",
    "print(mcfadden(np.array(afam.binary_outcome), np.array(afam.pred_score_1), k))"
   ]
  },
  {
   "cell_type": "code",
   "execution_count": null,
   "metadata": {
    "collapsed": true
   },
   "outputs": [],
   "source": []
  }
 ],
 "metadata": {
  "kernelspec": {
   "display_name": "Python 3",
   "language": "python",
   "name": "python3"
  },
  "language_info": {
   "codemirror_mode": {
    "name": "ipython",
    "version": 3
   },
   "file_extension": ".py",
   "mimetype": "text/x-python",
   "name": "python",
   "nbconvert_exporter": "python",
   "pygments_lexer": "ipython3",
   "version": "3.5.3"
  }
 },
 "nbformat": 4,
 "nbformat_minor": 2
}
