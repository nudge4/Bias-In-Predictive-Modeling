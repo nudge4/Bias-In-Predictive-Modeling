{
 "cells": [
  {
   "cell_type": "code",
   "execution_count": 19,
   "metadata": {
    "collapsed": true
   },
   "outputs": [],
   "source": [
    "import numpy as np\n",
    "import pandas as pd\n",
    "from scipy import stats\n",
    "import pickle\n",
    "from collections import Counter\n",
    "from sklearn.metrics import precision_recall_curve, roc_auc_score, confusion_matrix, balanced_accuracy_score\n",
    "from sklearn.model_selection import train_test_split, StratifiedKFold\n",
    "from sklearn.ensemble import RandomForestClassifier\n",
    "from scipy.stats.mstats import gmean\n",
    "import math"
   ]
  },
  {
   "cell_type": "code",
   "execution_count": 20,
   "metadata": {
    "collapsed": true
   },
   "outputs": [],
   "source": [
    "top10_predictors = ['crnt_enrl_intensity', 'cum_gpa', 'avg_g', 'term_gpa_1', 'past_avg_grade', 'avg_g_concurrent', 'median_income_households', 'perc_below_pov', 'overall_prop_comp']"
   ]
  },
  {
   "cell_type": "code",
   "execution_count": 21,
   "metadata": {
    "collapsed": true
   },
   "outputs": [],
   "source": [
    "top10_new = ['cum_gpa', 'term_gpa_1', 'past_avg_grade', 'avg_g_concurrent', 'overall_prop_comp']"
   ]
  },
  {
   "cell_type": "code",
   "execution_count": 22,
   "metadata": {
    "collapsed": true
   },
   "outputs": [],
   "source": [
    "df2 = pd.read_stata(\"top10_predictors_table.dta\")"
   ]
  },
  {
   "cell_type": "code",
   "execution_count": 23,
   "metadata": {
    "collapsed": true
   },
   "outputs": [],
   "source": [
    "from statsmodels.stats.weightstats import CompareMeans,DescrStatsW"
   ]
  },
  {
   "cell_type": "code",
   "execution_count": 24,
   "metadata": {},
   "outputs": [],
   "source": [
    "rows = []\n",
    "for pp in top10_predictors:\n",
    "    if pp in top10_new:\n",
    "        p = pp + \"_orig\"\n",
    "    else:\n",
    "        p = pp\n",
    "    x = np.array(df2.loc[:,p])\n",
    "    white_indices = np.where(df2.white == 1)[0]\n",
    "    nonwhite_indices = np.where(df2['afam'] == 1)[0]\n",
    "    x_1 = x[white_indices]\n",
    "    x_1 = x_1[~pd.isnull(x_1)]\n",
    "    x_2 = x[nonwhite_indices]\n",
    "    x_2 = x_2[~pd.isnull(x_2)]\n",
    "    test_result = CompareMeans(DescrStatsW(x_1), DescrStatsW(x_2)).ztest_ind(alternative='two-sided', usevar='unequal')\n",
    "    p_vals = str(test_result[1]).split(\"e\")\n",
    "    if len(p_vals) == 1:\n",
    "        new_p_val = str(round(float(p_vals[0]),4))\n",
    "    else:\n",
    "        new_p_val = str(round(float(p_vals[0]),4)) + \"e\" + p_vals[1]\n",
    "    white_mean = round(np.mean(x_1), 4)\n",
    "    diff_in_mean = round(np.mean(x_2) - np.mean(x_1),4)\n",
    "    if pp in top10_new:\n",
    "        x_1 = x[white_indices]\n",
    "        x_1 = pd.isnull(x_1).astype(int)\n",
    "        x_2 = x[nonwhite_indices]\n",
    "        x_2 = pd.isnull(x_2).astype(int)\n",
    "        test_result = CompareMeans(DescrStatsW(x_1), DescrStatsW(x_2)).ztest_ind(alternative='two-sided', usevar='unequal')\n",
    "        p_vals = str(test_result[1]).split(\"e\")\n",
    "        if len(p_vals) == 1:\n",
    "            new_p_val_2 = str(round(float(p_vals[0]),4))\n",
    "        else:\n",
    "            new_p_val_2 = str(round(float(p_vals[0]),4)) + \"e\" + p_vals[1]\n",
    "        white_mean_2 = round(np.mean(x_1), 4)\n",
    "        diff_in_mean_2 = round(np.mean(x_2) - np.mean(x_1),4)\n",
    "        rows.append((pp, white_mean, diff_in_mean, new_p_val, white_mean_2, diff_in_mean_2, new_p_val_2))\n",
    "    else:\n",
    "        rows.append((pp, white_mean, diff_in_mean, new_p_val))\n",
    "table = pd.DataFrame(rows[:], columns=['predictor', \"white_mean\", 'diff_in_mean', 'p_value', 'white_mi_perc', 'diff_in_mi_perc', 'p_value_mi'])\n",
    "table.loc[:,'p_value'] = table.p_value.astype(float).round(4)\n",
    "table.loc[:,'p_value_mi'] = table.p_value_mi.astype(float).round(4)\n",
    "table.round(4).to_csv(\"key_predictor_difference_{}.csv\".format('afam'), index=False)"
   ]
  },
  {
   "cell_type": "code",
   "execution_count": null,
   "metadata": {
    "collapsed": true
   },
   "outputs": [],
   "source": []
  }
 ],
 "metadata": {
  "kernelspec": {
   "display_name": "Python 3",
   "language": "python",
   "name": "python3"
  },
  "language_info": {
   "codemirror_mode": {
    "name": "ipython",
    "version": 3
   },
   "file_extension": ".py",
   "mimetype": "text/x-python",
   "name": "python",
   "nbconvert_exporter": "python",
   "pygments_lexer": "ipython3",
   "version": "3.5.3"
  }
 },
 "nbformat": 4,
 "nbformat_minor": 2
}
