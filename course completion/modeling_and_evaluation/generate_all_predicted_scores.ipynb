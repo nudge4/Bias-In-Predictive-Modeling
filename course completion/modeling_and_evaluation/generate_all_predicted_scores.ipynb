{
 "cells": [
  {
   "cell_type": "code",
   "execution_count": 19,
   "metadata": {
    "collapsed": true
   },
   "outputs": [],
   "source": [
    "import numpy as np\n",
    "import pandas as pd\n",
    "import pickle"
   ]
  },
  {
   "cell_type": "code",
   "execution_count": 20,
   "metadata": {
    "collapsed": true
   },
   "outputs": [],
   "source": [
    "train_sample = pd.read_stata(\"train_sample.dta\")\n",
    "p0 = pickle.load(open(\"../bias_analyses_3e/y_train.p\", \"rb\"))\n",
    "p1 = pickle.load(open(\"../bias_analyses_3e/y_train_pred_rf.p\", \"rb\"))\n",
    "train_sample.loc[:, 'binary_outcome'] = p0\n",
    "train_sample.loc[:, 'pred_score_1'] = p1"
   ]
  },
  {
   "cell_type": "code",
   "execution_count": 21,
   "metadata": {
    "collapsed": true
   },
   "outputs": [],
   "source": [
    "p2 = pickle.load(open(\"../bias_analyses_3f/y_train_pred_rf.p\", \"rb\"))\n",
    "train_sample.loc[:, 'pred_score_2'] = p2"
   ]
  },
  {
   "cell_type": "code",
   "execution_count": 22,
   "metadata": {
    "collapsed": true
   },
   "outputs": [],
   "source": [
    "df_list = []\n",
    "for r in ['white', 'afam', 'hisp', 'asian', 'other']:\n",
    "    df = pd.read_stata(\"../bias_analyses_5c/train_id_{}.dta\".format(r))\n",
    "    df.loc[:,'race'] = r\n",
    "    p3 = pickle.load(open(\"../bias_analyses_5b/y_train_pred_rf_{}_subgp.p\".format(r), \"rb\"))\n",
    "    df.loc[:,'pred_score_3'] = p3\n",
    "    df_list.append(df)\n",
    "train_sample_3 = pd.concat(df_list)"
   ]
  },
  {
   "cell_type": "code",
   "execution_count": 23,
   "metadata": {
    "collapsed": true
   },
   "outputs": [],
   "source": [
    "train_sample_4 = pd.read_stata(\"train_sample.dta\")\n",
    "p4 = pickle.load(open(\"../bias_analyses_10d/y_train_pred_rf.p\", \"rb\"))\n",
    "train_sample_4.loc[:, 'pred_score_4'] = p4"
   ]
  },
  {
   "cell_type": "code",
   "execution_count": 24,
   "metadata": {
    "collapsed": true
   },
   "outputs": [],
   "source": [
    "p5 = pickle.load(open(\"../bias_analyses_2b/y_train_pred_lr.p\", \"rb\"))\n",
    "train_sample_4.loc[:, 'pred_score_5'] = p5"
   ]
  },
  {
   "cell_type": "code",
   "execution_count": 29,
   "metadata": {},
   "outputs": [
    {
     "name": "stderr",
     "output_type": "stream",
     "text": [
      "C:\\Users\\ys8mz\\AppData\\Local\\Continuum\\Anaconda3\\lib\\site-packages\\pandas\\core\\indexing.py:362: SettingWithCopyWarning: \n",
      "A value is trying to be set on a copy of a slice from a DataFrame.\n",
      "Try using .loc[row_indexer,col_indexer] = value instead\n",
      "\n",
      "See the caveats in the documentation: http://pandas.pydata.org/pandas-docs/stable/indexing.html#indexing-view-versus-copy\n",
      "  self.obj[key] = _infer_fill_value(value)\n",
      "C:\\Users\\ys8mz\\AppData\\Local\\Continuum\\Anaconda3\\lib\\site-packages\\pandas\\core\\indexing.py:543: SettingWithCopyWarning: \n",
      "A value is trying to be set on a copy of a slice from a DataFrame.\n",
      "Try using .loc[row_indexer,col_indexer] = value instead\n",
      "\n",
      "See the caveats in the documentation: http://pandas.pydata.org/pandas-docs/stable/indexing.html#indexing-view-versus-copy\n",
      "  self.obj[item] = s\n"
     ]
    }
   ],
   "source": [
    "gender_df = pd.read_stata(\"../bias_analyses/race.dta\").loc[:,['vccsid', 'male', 'white', 'afam', 'hisp', 'asian', 'other']]\n",
    "firstgen_df = pd.read_stata(\"../bias_analyses/firstgen.dta\")\n",
    "pell_df = pd.read_stata(\"../bias_analyses/pell.dta\")\n",
    "zip_df = pd.read_stata(\"../bias_analyses/zip.dta\")\n",
    "train_sample_6 = pd.read_stata(\"../bias_analyses/train_df_first_ind.dta\")\n",
    "train_sample_6 = train_sample_6.merge(gender_df, how='inner', on=['vccsid']).merge(firstgen_df, how='inner', on=['vccsid']).merge(pell_df, how='inner', on=['vccsid', 'strm']).merge(zip_df, how='inner', on=['vccsid', 'strm'])\n",
    "train_sample_6_part1 = train_sample_6[train_sample_6.first_ind == 1]\n",
    "train_sample_6_part1.loc[:,'pred_score_6'] = pickle.load(open(\"../bias_analyses_14d/y_train_pred_rf.p\", \"rb\"))\n",
    "train_sample_6_part2 = train_sample_6[train_sample_6.first_ind == 0]\n",
    "train_sample_6_part2.loc[:,'pred_score_6'] = pickle.load(open(\"../bias_analyses_14e/y_train_pred_rf.p\", \"rb\"))\n",
    "train_sample_6 = pd.concat([train_sample_6_part1, train_sample_6_part2])\n",
    "train_sample_6 = train_sample_6.loc[:,['vccsid', 'strm', 'college', 'course', 'section', 'first_ind', 'pred_score_6']]\n",
    "train_sample_6 = train_sample_6.rename(columns = {'first_ind': 'first_term_ind'})"
   ]
  },
  {
   "cell_type": "code",
   "execution_count": 33,
   "metadata": {
    "collapsed": true
   },
   "outputs": [],
   "source": [
    "df_list = []\n",
    "for r in ['ENG_111', 'ENG_112', 'BIO_101', 'ITE_115', 'SDV_100']:\n",
    "    df = pd.read_stata(\"../bias_analyses_5c/train_id_{}.dta\".format(r))\n",
    "    p7 = pickle.load(open(\"../bias_analyses_18e/y_train_pred_rf_{}_subgp.p\".format(r), \"rb\"))\n",
    "    df.loc[:,'pred_score_7'] = p7\n",
    "    df_list.append(df)\n",
    "train_sample_7 = pd.concat(df_list)"
   ]
  },
  {
   "cell_type": "code",
   "execution_count": 45,
   "metadata": {},
   "outputs": [
    {
     "name": "stderr",
     "output_type": "stream",
     "text": [
      "C:\\Users\\ys8mz\\AppData\\Local\\Continuum\\Anaconda3\\lib\\site-packages\\pandas\\core\\indexing.py:362: SettingWithCopyWarning: \n",
      "A value is trying to be set on a copy of a slice from a DataFrame.\n",
      "Try using .loc[row_indexer,col_indexer] = value instead\n",
      "\n",
      "See the caveats in the documentation: http://pandas.pydata.org/pandas-docs/stable/indexing.html#indexing-view-versus-copy\n",
      "  self.obj[key] = _infer_fill_value(value)\n",
      "C:\\Users\\ys8mz\\AppData\\Local\\Continuum\\Anaconda3\\lib\\site-packages\\pandas\\core\\indexing.py:543: SettingWithCopyWarning: \n",
      "A value is trying to be set on a copy of a slice from a DataFrame.\n",
      "Try using .loc[row_indexer,col_indexer] = value instead\n",
      "\n",
      "See the caveats in the documentation: http://pandas.pydata.org/pandas-docs/stable/indexing.html#indexing-view-versus-copy\n",
      "  self.obj[item] = s\n"
     ]
    }
   ],
   "source": [
    "train_sample_8 = pd.read_stata(\"../bias_analyses/train_df_first_ind.dta\").loc[:,['vccsid', 'strm', 'college', 'course', 'section']]\n",
    "train_sample_8 = train_sample_8.merge(gender_df, how='inner', on=['vccsid']).merge(firstgen_df, how='inner', on=['vccsid']).merge(pell_df, how='inner', on=['vccsid', 'strm']).merge(zip_df, how='inner', on=['vccsid', 'strm'])\n",
    "train_sample_8 = train_sample_8.loc[:,['vccsid', 'strm', 'college', 'course', 'section']]\n",
    "df_list = []\n",
    "cname_dict = {'NVCC': 'Northern Virginia', 'TCC': 'Tidewater',\n",
    "              'JSRCC': 'J. Sargeant Reynolds', 'TNCC': 'Thomas Nelson', 'JTCC': 'John Tyler'}\n",
    "for r in ['NVCC', 'TCC', 'JSRCC', 'TNCC', 'JTCC']:\n",
    "    df = train_sample_8[train_sample_8.college == cname_dict[r]]\n",
    "    p8 = pickle.load(open(\"../bias_analyses_18d/y_train_pred_rf_{}_subgp.p\".format(r), \"rb\"))\n",
    "    df.loc[:,'pred_score_8'] = p8\n",
    "    df_list.append(df)\n",
    "train_sample_8 = pd.concat(df_list)"
   ]
  },
  {
   "cell_type": "code",
   "execution_count": 46,
   "metadata": {
    "collapsed": true
   },
   "outputs": [],
   "source": [
    "test_sample = pd.read_stata(\"../bias_analyses/test_df_first_ind.dta\").loc[:,['vccsid', 'strm', 'college', 'course', 'section']]\n",
    "test_sample = test_sample.merge(gender_df, how='inner', on=['vccsid']).merge(firstgen_df, how='inner', on=['vccsid']).merge(pell_df, how='inner', on=['vccsid', 'strm']).merge(zip_df, how='inner', on=['vccsid', 'strm'])\n",
    "test_sample = test_sample.loc[:,['vccsid', 'strm', 'college', 'course', 'section']]\n",
    "p0 = pickle.load(open(\"../bias_analyses_3e/y_test.p\", \"rb\"))\n",
    "p1 = pickle.load(open(\"../bias_analyses_3e/y_test_pred_rf.p\", \"rb\"))\n",
    "test_sample.loc[:, 'binary_outcome'] = p0\n",
    "test_sample.loc[:, 'pred_score_1'] = p1"
   ]
  },
  {
   "cell_type": "code",
   "execution_count": 48,
   "metadata": {
    "collapsed": true
   },
   "outputs": [],
   "source": [
    "p2 = pickle.load(open(\"../bias_analyses_3f/y_test_pred_rf.p\", \"rb\"))\n",
    "test_sample.loc[:, 'pred_score_2'] = p2"
   ]
  },
  {
   "cell_type": "code",
   "execution_count": 49,
   "metadata": {
    "collapsed": true
   },
   "outputs": [],
   "source": [
    "df_list = []\n",
    "for r in ['white', 'afam', 'hisp', 'asian', 'other']:\n",
    "    df = pd.read_stata(\"../bias_analyses_5c/test_id_{}.dta\".format(r))\n",
    "    df.loc[:,'race'] = r\n",
    "    p3 = pickle.load(open(\"../bias_analyses_5b/y_test_pred_rf_{}_subgp.p\".format(r), \"rb\"))\n",
    "    df.loc[:,'pred_score_3'] = p3\n",
    "    df_list.append(df)\n",
    "test_sample_3 = pd.concat(df_list)"
   ]
  },
  {
   "cell_type": "code",
   "execution_count": 51,
   "metadata": {
    "collapsed": true
   },
   "outputs": [],
   "source": [
    "test_sample_4 = pd.read_stata(\"../bias_analyses/test_df_first_ind.dta\").loc[:,['vccsid', 'strm', 'college', 'course', 'section']]\n",
    "test_sample_4 = test_sample_4.merge(gender_df, how='inner', on=['vccsid']).merge(firstgen_df, how='inner', on=['vccsid']).merge(pell_df, how='inner', on=['vccsid', 'strm']).merge(zip_df, how='inner', on=['vccsid', 'strm'])\n",
    "test_sample_4 = test_sample_4.loc[:,['vccsid', 'strm', 'college', 'course', 'section']]\n",
    "p4 = pickle.load(open(\"../bias_analyses_10d/y_test_pred_rf.p\", \"rb\"))\n",
    "test_sample_4.loc[:, 'pred_score_4'] = p4"
   ]
  },
  {
   "cell_type": "code",
   "execution_count": 52,
   "metadata": {
    "collapsed": true
   },
   "outputs": [],
   "source": [
    "p5 = pickle.load(open(\"../bias_analyses_2b/y_test_pred_lr.p\", \"rb\"))\n",
    "test_sample_4.loc[:, 'pred_score_5'] = p5"
   ]
  },
  {
   "cell_type": "code",
   "execution_count": 53,
   "metadata": {},
   "outputs": [
    {
     "name": "stderr",
     "output_type": "stream",
     "text": [
      "C:\\Users\\ys8mz\\AppData\\Local\\Continuum\\Anaconda3\\lib\\site-packages\\pandas\\core\\indexing.py:362: SettingWithCopyWarning: \n",
      "A value is trying to be set on a copy of a slice from a DataFrame.\n",
      "Try using .loc[row_indexer,col_indexer] = value instead\n",
      "\n",
      "See the caveats in the documentation: http://pandas.pydata.org/pandas-docs/stable/indexing.html#indexing-view-versus-copy\n",
      "  self.obj[key] = _infer_fill_value(value)\n",
      "C:\\Users\\ys8mz\\AppData\\Local\\Continuum\\Anaconda3\\lib\\site-packages\\pandas\\core\\indexing.py:543: SettingWithCopyWarning: \n",
      "A value is trying to be set on a copy of a slice from a DataFrame.\n",
      "Try using .loc[row_indexer,col_indexer] = value instead\n",
      "\n",
      "See the caveats in the documentation: http://pandas.pydata.org/pandas-docs/stable/indexing.html#indexing-view-versus-copy\n",
      "  self.obj[item] = s\n"
     ]
    }
   ],
   "source": [
    "test_sample_6 = pd.read_stata(\"../bias_analyses/test_df_first_ind.dta\")\n",
    "test_sample_6 = test_sample_6.merge(gender_df, how='inner', on=['vccsid']).merge(firstgen_df, how='inner', on=['vccsid']).merge(pell_df, how='inner', on=['vccsid', 'strm']).merge(zip_df, how='inner', on=['vccsid', 'strm'])\n",
    "test_sample_6_part1 = test_sample_6[test_sample_6.first_ind == 1]\n",
    "test_sample_6_part1.loc[:,'pred_score_6'] = pickle.load(open(\"../bias_analyses_14d/y_test_pred_rf.p\", \"rb\"))\n",
    "test_sample_6_part2 = test_sample_6[test_sample_6.first_ind == 0]\n",
    "test_sample_6_part2.loc[:,'pred_score_6'] = pickle.load(open(\"../bias_analyses_14e/y_test_pred_rf.p\", \"rb\"))\n",
    "test_sample_6 = pd.concat([test_sample_6_part1, test_sample_6_part2])\n",
    "test_sample_6 = test_sample_6.loc[:,['vccsid', 'strm', 'college', 'course', 'section', 'first_ind', 'pred_score_6']]\n",
    "test_sample_6 = test_sample_6.rename(columns = {'first_ind': 'first_term_ind'})"
   ]
  },
  {
   "cell_type": "code",
   "execution_count": 54,
   "metadata": {
    "collapsed": true
   },
   "outputs": [],
   "source": [
    "df_list = []\n",
    "for r in ['ENG_111', 'ENG_112', 'BIO_101', 'ITE_115', 'SDV_100']:\n",
    "    df = pd.read_stata(\"../bias_analyses_5c/test_id_{}.dta\".format(r))\n",
    "    p7 = pickle.load(open(\"../bias_analyses_18e/y_test_pred_rf_{}_subgp.p\".format(r), \"rb\"))\n",
    "    df.loc[:,'pred_score_7'] = p7\n",
    "    df_list.append(df)\n",
    "test_sample_7 = pd.concat(df_list)"
   ]
  },
  {
   "cell_type": "code",
   "execution_count": 55,
   "metadata": {},
   "outputs": [
    {
     "name": "stderr",
     "output_type": "stream",
     "text": [
      "C:\\Users\\ys8mz\\AppData\\Local\\Continuum\\Anaconda3\\lib\\site-packages\\pandas\\core\\indexing.py:362: SettingWithCopyWarning: \n",
      "A value is trying to be set on a copy of a slice from a DataFrame.\n",
      "Try using .loc[row_indexer,col_indexer] = value instead\n",
      "\n",
      "See the caveats in the documentation: http://pandas.pydata.org/pandas-docs/stable/indexing.html#indexing-view-versus-copy\n",
      "  self.obj[key] = _infer_fill_value(value)\n",
      "C:\\Users\\ys8mz\\AppData\\Local\\Continuum\\Anaconda3\\lib\\site-packages\\pandas\\core\\indexing.py:543: SettingWithCopyWarning: \n",
      "A value is trying to be set on a copy of a slice from a DataFrame.\n",
      "Try using .loc[row_indexer,col_indexer] = value instead\n",
      "\n",
      "See the caveats in the documentation: http://pandas.pydata.org/pandas-docs/stable/indexing.html#indexing-view-versus-copy\n",
      "  self.obj[item] = s\n"
     ]
    }
   ],
   "source": [
    "test_sample_8 = pd.read_stata(\"../bias_analyses/test_df_first_ind.dta\").loc[:,['vccsid', 'strm', 'college', 'course', 'section']]\n",
    "test_sample_8 = test_sample_8.merge(gender_df, how='inner', on=['vccsid']).merge(firstgen_df, how='inner', on=['vccsid']).merge(pell_df, how='inner', on=['vccsid', 'strm']).merge(zip_df, how='inner', on=['vccsid', 'strm'])\n",
    "test_sample_8 = test_sample_8.loc[:,['vccsid', 'strm', 'college', 'course', 'section']]\n",
    "df_list = []\n",
    "cname_dict = {'NVCC': 'Northern Virginia', 'TCC': 'Tidewater',\n",
    "              'JSRCC': 'J. Sargeant Reynolds', 'TNCC': 'Thomas Nelson', 'JTCC': 'John Tyler'}\n",
    "for r in ['NVCC', 'TCC', 'JSRCC', 'TNCC', 'JTCC']:\n",
    "    df = test_sample_8[test_sample_8.college == cname_dict[r]]\n",
    "    p8 = pickle.load(open(\"../bias_analyses_18d/y_test_pred_rf_{}_subgp.p\".format(r), \"rb\"))\n",
    "    df.loc[:,'pred_score_8'] = p8\n",
    "    df_list.append(df)\n",
    "test_sample_8 = pd.concat(df_list)"
   ]
  },
  {
   "cell_type": "code",
   "execution_count": 56,
   "metadata": {
    "collapsed": true
   },
   "outputs": [],
   "source": [
    "train_sample_all = train_sample.merge(train_sample_3, on=['vccsid', 'strm', 'college', 'course', 'section'], how='left')\\\n",
    ".merge(train_sample_4, on=['vccsid', 'strm', 'college', 'course', 'section'], how='left')\\\n",
    ".merge(train_sample_6, on=['vccsid', 'strm', 'college', 'course', 'section'], how='left')\\\n",
    ".merge(train_sample_7, on=['vccsid', 'strm', 'college', 'course', 'section'], how='left')\\\n",
    ".merge(train_sample_8, on=['vccsid', 'strm', 'college', 'course', 'section'], how='left')\n",
    "train_sample_all.loc[:,'original_sample'] = 'training'"
   ]
  },
  {
   "cell_type": "code",
   "execution_count": 57,
   "metadata": {
    "collapsed": true
   },
   "outputs": [],
   "source": [
    "test_sample_all = test_sample.merge(test_sample_3, on=['vccsid', 'strm', 'college', 'course', 'section'], how='left')\\\n",
    ".merge(test_sample_4, on=['vccsid', 'strm', 'college', 'course', 'section'], how='left')\\\n",
    ".merge(test_sample_6, on=['vccsid', 'strm', 'college', 'course', 'section'], how='left')\\\n",
    ".merge(test_sample_7, on=['vccsid', 'strm', 'college', 'course', 'section'], how='left')\\\n",
    ".merge(test_sample_8, on=['vccsid', 'strm', 'college', 'course', 'section'], how='left')\n",
    "test_sample_all.loc[:,'original_sample'] = 'validation'"
   ]
  },
  {
   "cell_type": "code",
   "execution_count": 62,
   "metadata": {
    "collapsed": true
   },
   "outputs": [],
   "source": [
    "sample_all = pd.concat([train_sample_all, test_sample_all])"
   ]
  },
  {
   "cell_type": "code",
   "execution_count": 65,
   "metadata": {
    "collapsed": true
   },
   "outputs": [],
   "source": [
    "train_sample_9 = pd.read_stata(\"../bias_analyses_3g/train_sample.dta\")\n",
    "train_p9 = pickle.load(open(\"../bias_analyses_3g/y_train_pred_rf.p\", \"rb\"))\n",
    "train_sample_9.loc[:,'random_sample'] = 'training'\n",
    "train_sample_9.loc[:,'pred_score_9'] = train_p9\n",
    "test_sample_9 = pd.read_stata(\"../bias_analyses_3g/test_sample.dta\")\n",
    "test_p9 = pickle.load(open(\"../bias_analyses_3g/y_test_pred_rf.p\", \"rb\"))\n",
    "test_sample_9.loc[:,'random_sample'] = 'validation'\n",
    "test_sample_9.loc[:,'pred_score_9'] = test_p9\n",
    "sample_9 = pd.concat([train_sample_9, test_sample_9])"
   ]
  },
  {
   "cell_type": "code",
   "execution_count": 68,
   "metadata": {
    "collapsed": true
   },
   "outputs": [],
   "source": [
    "sample_all = sample_all.merge(sample_9, on=['vccsid', 'strm', 'college', 'course', 'section'], how='left')"
   ]
  },
  {
   "cell_type": "code",
   "execution_count": 70,
   "metadata": {
    "collapsed": true
   },
   "outputs": [],
   "source": [
    "sample_all.to_stata(\"all_predicted_scores_for_course_completion.dta\", write_index=False)"
   ]
  },
  {
   "cell_type": "code",
   "execution_count": null,
   "metadata": {
    "collapsed": true
   },
   "outputs": [],
   "source": []
  }
 ],
 "metadata": {
  "kernelspec": {
   "display_name": "Python 3",
   "language": "python",
   "name": "python3"
  },
  "language_info": {
   "codemirror_mode": {
    "name": "ipython",
    "version": 3
   },
   "file_extension": ".py",
   "mimetype": "text/x-python",
   "name": "python",
   "nbconvert_exporter": "python",
   "pygments_lexer": "ipython3",
   "version": "3.5.3"
  }
 },
 "nbformat": 4,
 "nbformat_minor": 2
}
