{
 "cells": [
  {
   "cell_type": "code",
   "execution_count": 18,
   "metadata": {
    "collapsed": true
   },
   "outputs": [],
   "source": [
    "import numpy as np\n",
    "import pandas as pd\n",
    "from scipy import stats\n",
    "from scipy.stats import rankdata\n",
    "from sklearn.metrics import confusion_matrix\n",
    "import pickle\n",
    "from sklearn.metrics import roc_auc_score\n",
    "import matplotlib\n",
    "font = {'size': 24}\n",
    "matplotlib.rc('font', **font)\n",
    "import matplotlib.pyplot as plt\n",
    "import seaborn as sns\n",
    "import re\n",
    "from collections import Counter"
   ]
  },
  {
   "cell_type": "code",
   "execution_count": 19,
   "metadata": {
    "collapsed": true
   },
   "outputs": [],
   "source": [
    "df = pd.read_stata(\"../degree_completion_s2/pred_score_by_race.dta\")"
   ]
  },
  {
   "cell_type": "code",
   "execution_count": 20,
   "metadata": {
    "collapsed": true
   },
   "outputs": [],
   "source": [
    "def two_side_z_test(n1, p1, n2, p2):\n",
    "    z = (p2-p1)/np.sqrt(p2*(1-p2)/(n2-1)+p1*(1-p1)/(n1-1))\n",
    "    return 2*(1-stats.norm.cdf(np.abs(z)))"
   ]
  },
  {
   "cell_type": "code",
   "execution_count": 21,
   "metadata": {
    "collapsed": true
   },
   "outputs": [],
   "source": [
    "new_pred_real = pd.DataFrame({'pred_score': list(df.pred_y),'real_y': list(df.test_y), 'race': list(df.race_column)}).sample(frac=1, random_state=54321)"
   ]
  },
  {
   "cell_type": "code",
   "execution_count": 22,
   "metadata": {
    "collapsed": true
   },
   "outputs": [],
   "source": [
    "new_pred_real.loc[:, 'pred_y'] = rankdata(new_pred_real.pred_score, method='ordinal')"
   ]
  },
  {
   "cell_type": "code",
   "execution_count": 23,
   "metadata": {
    "collapsed": true
   },
   "outputs": [],
   "source": [
    "try:\n",
    "    new_pred_real.loc[:,'pred_y_binned'] = pd.cut(new_pred_real.pred_y, bins=[0] + list(np.percentile(new_pred_real.pred_y, np.arange(2,100,2))) + [1])\n",
    "except ValueError:\n",
    "    new_pred_real.loc[:,'pred_y_binned'] = pd.cut(new_pred_real.pred_y.rank(method='first'), bins=[0] + list(np.percentile(new_pred_real.pred_y.rank(method='first'), np.arange(2,100,2))) + [new_pred_real.shape[0]+1])\n",
    "try:\n",
    "    new_pred_real.loc[:,'pred_y_binned_2'] = pd.cut(new_pred_real.pred_y, bins=[min(new_pred_real.pred_y) - 1e-3] + list(np.percentile(new_pred_real.pred_y, np.arange(10,100,10))) + [max(new_pred_real.pred_y) + 1e-3])\n",
    "except ValueError:\n",
    "    new_pred_real.loc[:,'pred_y_binned_2'] = pd.cut(new_pred_real.pred_y.rank(method='first'), bins=[0] + list(np.percentile(new_pred_real.pred_y.rank(method='first'), np.arange(10,100,10))) + [new_pred_real.shape[0]+1])\n",
    "pct_dict = {e:(10*indx+5) for indx, e in enumerate(sorted(list(Counter(new_pred_real.pred_y_binned_2).keys())))}"
   ]
  },
  {
   "cell_type": "code",
   "execution_count": 24,
   "metadata": {},
   "outputs": [
    {
     "name": "stdout",
     "output_type": "stream",
     "text": [
      "afam\n",
      "100\n"
     ]
    }
   ],
   "source": [
    "new_pred_real.loc[:,'real_y'] = new_pred_real.real_y * 100\n",
    "for r in ['afam']:\n",
    "    print(r)\n",
    "    new_sub = new_pred_real.copy()[new_pred_real.race.apply(lambda x: x in ['white', r])]\n",
    "    new_sub = new_sub.groupby(['pred_y_binned', 'race']).agg({'real_y':'mean'}).reset_index()\n",
    "    new_sub.loc[:,r] = new_sub.race.apply(lambda x: 1 if x == r else 0)\n",
    "    new_sub = new_sub.sort_values([r, 'pred_y_binned'])\n",
    "    print(new_sub.shape[0])\n",
    "    new_sub.loc[:,'pred_score_percentile'] = list(np.linspace(1,99,50))*2\n",
    "    new_sub = new_sub.rename(columns={'real_y':'share_of_actual_ABC'}).drop(['pred_y_binned'], axis=1)\n",
    "\n",
    "    sns.set_style(style = \"darkgrid\")\n",
    "    fig, ax = plt.subplots(1,1, figsize=(24,16.5))\n",
    "    sns.scatterplot(x=\"pred_score_percentile\", y=\"share_of_actual_ABC\", hue='race', hue_order = ['white', r],\n",
    "                    data=new_sub,\n",
    "                    palette = ['C0','C2'], marker=\"x\", ax=ax, s=150, alpha=0.7, linewidth = 3)\n",
    "    handles, labels = ax.get_legend_handles_labels()\n",
    "    ax.legend(handles=handles[1:], labels=['White', 'Black'], fontsize='40', markerscale=3)\n",
    "    plt.xticks(np.linspace(0,100,11),fontsize=36)\n",
    "    plt.yticks(np.linspace(0,100,11),fontsize=36)\n",
    "    \n",
    "    new_sub = new_pred_real.copy()[new_pred_real.race.apply(lambda x: x in ['white', r])]\n",
    "    new_sub.loc[:,'pred_score_percentile_new'] = new_sub.pred_y_binned_2.apply(lambda x: pct_dict[x])\n",
    "    np.random.seed(4321)\n",
    "    sns.lineplot(data=new_sub, x=\"pred_score_percentile_new\", y=\"real_y\", hue='race', hue_order = ['white', r],\n",
    "                 err_style=\"bars\", err_kws = {'capsize': 8, 'elinewidth':3, 'capthick':2}, \n",
    "                 ci=95, ax=ax, linewidth = 6,\n",
    "                 palette = ['C0','C2'], legend=False,\n",
    "                 marker=\".\", markersize=36)\n",
    "    plt.xlabel(\"Enrollment Intensity Percentile\", fontsize=40, labelpad=16)\n",
    "    plt.ylabel(\"% of Students Who Earn Degree or Certificate in 6 Years\", fontsize=36, labelpad=16)\n",
    "    plt.savefig(\"../degree_completion_s2/degree_completion_enrollment_intensity_model.png\")"
   ]
  },
  {
   "cell_type": "code",
   "execution_count": null,
   "metadata": {
    "collapsed": true
   },
   "outputs": [],
   "source": []
  }
 ],
 "metadata": {
  "kernelspec": {
   "display_name": "Python 3",
   "language": "python",
   "name": "python3"
  },
  "language_info": {
   "codemirror_mode": {
    "name": "ipython",
    "version": 3
   },
   "file_extension": ".py",
   "mimetype": "text/x-python",
   "name": "python",
   "nbconvert_exporter": "python",
   "pygments_lexer": "ipython3",
   "version": "3.5.3"
  }
 },
 "nbformat": 4,
 "nbformat_minor": 2
}
