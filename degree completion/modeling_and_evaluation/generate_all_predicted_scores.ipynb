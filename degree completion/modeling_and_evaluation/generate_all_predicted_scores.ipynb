{
 "cells": [
  {
   "cell_type": "markdown",
   "metadata": {},
   "source": [
    "This script generates the predicted scores for all model variants of degree completion, and then save those predicted scores into one single data set."
   ]
  },
  {
   "cell_type": "code",
   "execution_count": 8,
   "metadata": {
    "collapsed": true
   },
   "outputs": [],
   "source": [
    "import numpy as np\n",
    "import pandas as pd\n",
    "import pickle"
   ]
  },
  {
   "cell_type": "code",
   "execution_count": 9,
   "metadata": {
    "collapsed": true
   },
   "outputs": [],
   "source": [
    "df_new = pd.read_stata(\"df_new.dta\")\n",
    "train_sample = df_new[df_new.valid == 0].loc[:,['vccsid']]\n",
    "p0 = pickle.load(open(\"y_train.p\", \"rb\"))\n",
    "p1 = pickle.load(open(\"y_train_pred_rf.p\", \"rb\"))\n",
    "train_sample.loc[:, 'binary_outcome'] = p0\n",
    "train_sample.loc[:, 'pred_score_1'] = p1"
   ]
  },
  {
   "cell_type": "code",
   "execution_count": 10,
   "metadata": {
    "collapsed": true
   },
   "outputs": [],
   "source": [
    "p2 = pickle.load(open(\"../degree_completion_2/y_train_pred_rf.p\", \"rb\"))\n",
    "train_sample.loc[:, 'pred_score_2'] = p2"
   ]
  },
  {
   "cell_type": "code",
   "execution_count": 11,
   "metadata": {
    "collapsed": true
   },
   "outputs": [],
   "source": [
    "df_list = []\n",
    "for r in ['white', 'afam', 'hisp', 'asian', 'other']:\n",
    "    df = pd.read_stata(\"../degree_completion_3/train_id_{}.dta\".format(r))\n",
    "    df.loc[:,'race'] = r\n",
    "    p3 = pickle.load(open(\"../degree_completion_3/y_train_pred_rf_{}.p\".format(r), \"rb\"))\n",
    "    df.loc[:,'pred_score_3'] = p3\n",
    "    df_list.append(df)\n",
    "train_sample_3 = pd.concat(df_list)"
   ]
  },
  {
   "cell_type": "code",
   "execution_count": 13,
   "metadata": {
    "collapsed": true
   },
   "outputs": [],
   "source": [
    "df_new = pd.read_stata(\"df_new.dta\")\n",
    "train_sample_4 = df_new[df_new.valid == 0].loc[:,['vccsid']]\n",
    "p4 = pickle.load(open(\"../degree_completion_4/y_train_pred_rf.p\", \"rb\"))\n",
    "train_sample_4.loc[:, 'pred_score_4'] = p4"
   ]
  },
  {
   "cell_type": "code",
   "execution_count": 14,
   "metadata": {
    "collapsed": true
   },
   "outputs": [],
   "source": [
    "p5 = pickle.load(open(\"y_train_pred_lr.p\", \"rb\"))\n",
    "train_sample_4.loc[:, 'pred_score_5'] = p5"
   ]
  },
  {
   "cell_type": "code",
   "execution_count": 15,
   "metadata": {
    "collapsed": true
   },
   "outputs": [],
   "source": [
    "df_list = []\n",
    "for r in ['first', 'return']:\n",
    "    df = pd.read_stata(\"../degree_completion_5/train_id_{}.dta\".format(r))\n",
    "    if r == \"first\":\n",
    "        df.loc[:,'first_term_ind'] = 1\n",
    "    else:\n",
    "        df.loc[:,'first_term_ind'] = 0\n",
    "    p6 = pickle.load(open(\"../degree_completion_5/y_train_pred_rf_{}.p\".format(r), \"rb\"))\n",
    "    df.loc[:,'pred_score_6'] = p6\n",
    "    df_list.append(df)\n",
    "train_sample_6 = pd.concat(df_list)"
   ]
  },
  {
   "cell_type": "code",
   "execution_count": 18,
   "metadata": {
    "collapsed": true
   },
   "outputs": [],
   "source": [
    "df_list = []\n",
    "for r in ['699', '213', '697', '882', '880']:\n",
    "    df = pd.read_stata(\"../degree_completion_6/train_id_{}.dta\".format(r))\n",
    "    df.loc[:,'program'] = r\n",
    "    p7 = pickle.load(open(\"../degree_completion_6/y_train_pred_rf_{}.p\".format(r), \"rb\"))\n",
    "    df.loc[:,'pred_score_7'] = p7\n",
    "    df_list.append(df)\n",
    "train_sample_7 = pd.concat(df_list)"
   ]
  },
  {
   "cell_type": "code",
   "execution_count": 19,
   "metadata": {
    "collapsed": true
   },
   "outputs": [],
   "source": [
    "df_list = []\n",
    "cname_dict = {'NVCC': 'Northern Virginia', 'TCC': 'Tidewater',\n",
    "              'JSRCC': 'J. Sargeant Reynolds', 'TNCC': 'Thomas Nelson', 'JTCC': 'John Tyler'}\n",
    "for r in ['NVCC', 'TCC', 'JSRCC', 'TNCC', 'JTCC']:\n",
    "    df = pd.read_stata(\"../degree_completion_7/train_id_{}.dta\".format(r))\n",
    "    df.loc[:,'college'] = cname_dict[r]\n",
    "    p8 = pickle.load(open(\"../degree_completion_7/y_train_pred_rf_{}.p\".format(r), \"rb\"))\n",
    "    df.loc[:,'pred_score_8'] = p8\n",
    "    df_list.append(df)\n",
    "train_sample_8 = pd.concat(df_list)"
   ]
  },
  {
   "cell_type": "code",
   "execution_count": 21,
   "metadata": {
    "collapsed": true
   },
   "outputs": [],
   "source": [
    "df_list = []\n",
    "for r in ['AA&S', 'AAS', 'CERT', 'CSC']:\n",
    "    df = pd.read_stata(\"../degree_completion_9/train_id_{}.dta\".format(r))\n",
    "    df.loc[:,'deglvl'] = r\n",
    "    p9 = pickle.load(open(\"../degree_completion_9/y_train_pred_rf_{}.p\".format(r), \"rb\"))\n",
    "    df.loc[:,'pred_score_9'] = p9\n",
    "    df_list.append(df)\n",
    "train_sample_9 = pd.concat(df_list)"
   ]
  },
  {
   "cell_type": "code",
   "execution_count": 23,
   "metadata": {
    "collapsed": true
   },
   "outputs": [],
   "source": [
    "df_new = pd.read_stata(\"df_new.dta\")\n",
    "test_sample = df_new[df_new.valid == 1].loc[:,['vccsid']]\n",
    "p0 = pickle.load(open(\"y_test.p\", \"rb\"))\n",
    "p1 = pickle.load(open(\"y_test_pred_rf.p\", \"rb\"))\n",
    "test_sample.loc[:, 'binary_outcome'] = p0\n",
    "test_sample.loc[:, 'pred_score_1'] = p1"
   ]
  },
  {
   "cell_type": "code",
   "execution_count": 24,
   "metadata": {
    "collapsed": true
   },
   "outputs": [],
   "source": [
    "p2 = pickle.load(open(\"../degree_completion_2/y_test_pred_rf.p\", \"rb\"))\n",
    "test_sample.loc[:, 'pred_score_2'] = p2"
   ]
  },
  {
   "cell_type": "code",
   "execution_count": 25,
   "metadata": {
    "collapsed": true
   },
   "outputs": [],
   "source": [
    "df_list = []\n",
    "for r in ['white', 'afam', 'hisp', 'asian', 'other']:\n",
    "    df = pd.read_stata(\"../degree_completion_3/test_id_{}.dta\".format(r))\n",
    "    df.loc[:,'race'] = r\n",
    "    p3 = pickle.load(open(\"../degree_completion_3/y_test_pred_rf_{}.p\".format(r), \"rb\"))\n",
    "    df.loc[:,'pred_score_3'] = p3\n",
    "    df_list.append(df)\n",
    "test_sample_3 = pd.concat(df_list)"
   ]
  },
  {
   "cell_type": "code",
   "execution_count": 26,
   "metadata": {
    "collapsed": true
   },
   "outputs": [],
   "source": [
    "df_new = pd.read_stata(\"df_new.dta\")\n",
    "test_sample_4 = df_new[df_new.valid == 1].loc[:,['vccsid']]\n",
    "p4 = pickle.load(open(\"../degree_completion_4/y_test_pred_rf.p\", \"rb\"))\n",
    "test_sample_4.loc[:, 'pred_score_4'] = p4"
   ]
  },
  {
   "cell_type": "code",
   "execution_count": 27,
   "metadata": {
    "collapsed": true
   },
   "outputs": [],
   "source": [
    "p5 = pickle.load(open(\"y_test_pred_lr.p\", \"rb\"))\n",
    "test_sample_4.loc[:, 'pred_score_5'] = p5"
   ]
  },
  {
   "cell_type": "code",
   "execution_count": 28,
   "metadata": {
    "collapsed": true
   },
   "outputs": [],
   "source": [
    "df_list = []\n",
    "for r in ['first', 'return']:\n",
    "    df = pd.read_stata(\"../degree_completion_5/test_id_{}.dta\".format(r))\n",
    "    if r == \"first\":\n",
    "        df.loc[:,'first_term_ind'] = 1\n",
    "    else:\n",
    "        df.loc[:,'first_term_ind'] = 0\n",
    "    p6 = pickle.load(open(\"../degree_completion_5/y_test_pred_rf_{}.p\".format(r), \"rb\"))\n",
    "    df.loc[:,'pred_score_6'] = p6\n",
    "    df_list.append(df)\n",
    "test_sample_6 = pd.concat(df_list)"
   ]
  },
  {
   "cell_type": "code",
   "execution_count": 29,
   "metadata": {
    "collapsed": true
   },
   "outputs": [],
   "source": [
    "df_list = []\n",
    "for r in ['699', '213', '697', '882', '880']:\n",
    "    df = pd.read_stata(\"../degree_completion_6/test_id_{}.dta\".format(r))\n",
    "    df.loc[:,'program'] = r\n",
    "    p7 = pickle.load(open(\"../degree_completion_6/y_test_pred_rf_{}.p\".format(r), \"rb\"))\n",
    "    df.loc[:,'pred_score_7'] = p7\n",
    "    df_list.append(df)\n",
    "test_sample_7 = pd.concat(df_list)"
   ]
  },
  {
   "cell_type": "code",
   "execution_count": 30,
   "metadata": {
    "collapsed": true
   },
   "outputs": [],
   "source": [
    "df_list = []\n",
    "cname_dict = {'NVCC': 'Northern Virginia', 'TCC': 'Tidewater',\n",
    "              'JSRCC': 'J. Sargeant Reynolds', 'TNCC': 'Thomas Nelson', 'JTCC': 'John Tyler'}\n",
    "for r in ['NVCC', 'TCC', 'JSRCC', 'TNCC', 'JTCC']:\n",
    "    df = pd.read_stata(\"../degree_completion_7/test_id_{}.dta\".format(r))\n",
    "    df.loc[:,'college'] = cname_dict[r]\n",
    "    p8 = pickle.load(open(\"../degree_completion_7/y_test_pred_rf_{}.p\".format(r), \"rb\"))\n",
    "    df.loc[:,'pred_score_8'] = p8\n",
    "    df_list.append(df)\n",
    "test_sample_8 = pd.concat(df_list)"
   ]
  },
  {
   "cell_type": "code",
   "execution_count": 31,
   "metadata": {
    "collapsed": true
   },
   "outputs": [],
   "source": [
    "df_list = []\n",
    "for r in ['AA&S', 'AAS', 'CERT', 'CSC']:\n",
    "    df = pd.read_stata(\"../degree_completion_9/test_id_{}.dta\".format(r))\n",
    "    df.loc[:,'deglvl'] = r\n",
    "    p9 = pickle.load(open(\"../degree_completion_9/y_test_pred_rf_{}.p\".format(r), \"rb\"))\n",
    "    df.loc[:,'pred_score_9'] = p9\n",
    "    df_list.append(df)\n",
    "test_sample_9 = pd.concat(df_list)"
   ]
  },
  {
   "cell_type": "code",
   "execution_count": 32,
   "metadata": {
    "collapsed": true
   },
   "outputs": [],
   "source": [
    "train_sample_all = train_sample.merge(train_sample_3, on=['vccsid'], how='left')\\\n",
    ".merge(train_sample_4, on=['vccsid'], how='left')\\\n",
    ".merge(train_sample_6, on=['vccsid'], how='left')\\\n",
    ".merge(train_sample_7, on=['vccsid'], how='left')\\\n",
    ".merge(train_sample_8, on=['vccsid'], how='left')\\\n",
    ".merge(train_sample_9, on=['vccsid'], how='left')\n",
    "train_sample_all.loc[:,'original_sample'] = 'training'"
   ]
  },
  {
   "cell_type": "code",
   "execution_count": 33,
   "metadata": {
    "collapsed": true
   },
   "outputs": [],
   "source": [
    "test_sample_all = test_sample.merge(test_sample_3, on=['vccsid'], how='left')\\\n",
    ".merge(test_sample_4, on=['vccsid'], how='left')\\\n",
    ".merge(test_sample_6, on=['vccsid'], how='left')\\\n",
    ".merge(test_sample_7, on=['vccsid'], how='left')\\\n",
    ".merge(test_sample_8, on=['vccsid'], how='left')\\\n",
    ".merge(test_sample_9, on=['vccsid'], how='left')\n",
    "test_sample_all.loc[:,'original_sample'] = 'validation'"
   ]
  },
  {
   "cell_type": "code",
   "execution_count": 34,
   "metadata": {
    "collapsed": true
   },
   "outputs": [],
   "source": [
    "sample_all = pd.concat([train_sample_all, test_sample_all])"
   ]
  },
  {
   "cell_type": "code",
   "execution_count": 36,
   "metadata": {
    "collapsed": true
   },
   "outputs": [],
   "source": [
    "train_sample_10 = pd.read_stata(\"../degree_completion_8/train_sample.dta\")\n",
    "train_p10 = pickle.load(open(\"../degree_completion_8/y_train_pred_rf.p\", \"rb\"))\n",
    "train_sample_10.loc[:,'random_sample'] = 'training'\n",
    "train_sample_10.loc[:,'pred_score_10'] = train_p10\n",
    "test_sample_10 = pd.read_stata(\"../degree_completion_8/test_sample.dta\")\n",
    "test_p10 = pickle.load(open(\"../degree_completion_8/y_test_pred_rf.p\", \"rb\"))\n",
    "test_sample_10.loc[:,'random_sample'] = 'validation'\n",
    "test_sample_10.loc[:,'pred_score_10'] = test_p10\n",
    "sample_10 = pd.concat([train_sample_10, test_sample_10])"
   ]
  },
  {
   "cell_type": "code",
   "execution_count": 38,
   "metadata": {
    "collapsed": true
   },
   "outputs": [],
   "source": [
    "sample_all = sample_all.merge(sample_10, on=['vccsid'], how='left')"
   ]
  },
  {
   "cell_type": "code",
   "execution_count": 39,
   "metadata": {
    "collapsed": true
   },
   "outputs": [],
   "source": [
    "sample_all.to_stata(\"all_predicted_scores_for_degree_completion.dta\", write_index=False)"
   ]
  },
  {
   "cell_type": "code",
   "execution_count": null,
   "metadata": {
    "collapsed": true
   },
   "outputs": [],
   "source": []
  }
 ],
 "metadata": {
  "kernelspec": {
   "display_name": "Python 3",
   "language": "python",
   "name": "python3"
  },
  "language_info": {
   "codemirror_mode": {
    "name": "ipython",
    "version": 3
   },
   "file_extension": ".py",
   "mimetype": "text/x-python",
   "name": "python",
   "nbconvert_exporter": "python",
   "pygments_lexer": "ipython3",
   "version": "3.5.3"
  }
 },
 "nbformat": 4,
 "nbformat_minor": 2
}
