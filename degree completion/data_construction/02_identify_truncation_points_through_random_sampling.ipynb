{
 "cells": [
  {
   "cell_type": "markdown",
   "metadata": {},
   "source": [
    "This script performs random truncation to generate the observation window for each student, such that the distribution of enrollment lengths of our study is identical to the distribution of those for the currently enrolled cohort."
   ]
  },
  {
   "cell_type": "code",
   "execution_count": 1,
   "metadata": {
    "collapsed": true
   },
   "outputs": [],
   "source": [
    "import pandas as pd\n",
    "import numpy as np\n",
    "import random\n",
    "from collections import Counter\n",
    "\n",
    "fpath = \"C:\\\\Users\\\\ys8mz\\\\Box Sync\\\\Predictive Models of College Completion (VCCS)\\\\intermediate_files\\\\new\\\\\""
   ]
  },
  {
   "cell_type": "markdown",
   "metadata": {},
   "source": [
    "#### Random truncation procedure for the training/validation sets"
   ]
  },
  {
   "cell_type": "code",
   "execution_count": 2,
   "metadata": {
    "collapsed": true
   },
   "outputs": [],
   "source": [
    "enrolled_nth = pd.read_stata(fpath+\"enrolled_nth.dta\")\n",
    "truncation_ss = pd.read_stata(fpath+\"truncation_sample_sizes.dta\")"
   ]
  },
  {
   "cell_type": "code",
   "execution_count": 3,
   "metadata": {
    "collapsed": true
   },
   "outputs": [],
   "source": [
    "train_ss = {}\n",
    "valid_ss = {}\n",
    "for i in range(truncation_ss.shape[0]):\n",
    "    nth_term = truncation_ss.nth_term.iloc[i]\n",
    "    tss = truncation_ss.train_sample_size.iloc[i]\n",
    "    vss = truncation_ss.valid_sample_size.iloc[i]\n",
    "    train_ss[nth_term] = tss\n",
    "    valid_ss[nth_term] = vss"
   ]
  },
  {
   "cell_type": "code",
   "execution_count": 4,
   "metadata": {
    "collapsed": true
   },
   "outputs": [],
   "source": [
    "valid_ind = pd.read_stata(fpath+\"full_data_enrolled_terms.dta\").loc[:,['vccsid','valid']]"
   ]
  },
  {
   "cell_type": "code",
   "execution_count": 5,
   "metadata": {},
   "outputs": [
    {
     "data": {
      "text/plain": [
       "Counter({0.0: 325341, 1.0: 63061})"
      ]
     },
     "execution_count": 5,
     "metadata": {},
     "output_type": "execute_result"
    }
   ],
   "source": [
    "Counter(valid_ind.valid)"
   ]
  },
  {
   "cell_type": "code",
   "execution_count": 6,
   "metadata": {},
   "outputs": [
    {
     "name": "stdout",
     "output_type": "stream",
     "text": [
      "Training sample size: 323182\n",
      "Validation sample size: 62618\n"
     ]
    }
   ],
   "source": [
    "enrolled_nth_1 = valid_ind[valid_ind.valid == 0].merge(enrolled_nth, on=['vccsid'], how='inner')\n",
    "print(\"Training sample size:\", len(np.unique(enrolled_nth_1.vccsid)))\n",
    "enrolled_nth_2 = valid_ind[valid_ind.valid == 1].merge(enrolled_nth, on=['vccsid'], how='inner')\n",
    "print(\"Validation sample size:\", len(np.unique(enrolled_nth_2.vccsid)))"
   ]
  },
  {
   "cell_type": "code",
   "execution_count": 7,
   "metadata": {
    "collapsed": true
   },
   "outputs": [],
   "source": [
    "initial_dict = {}\n",
    "df1 = enrolled_nth.loc[:,['vccsid','first_nonde_strm']].drop_duplicates()\n",
    "for i in range(df1.shape[0]):\n",
    "    vccsid = df1.vccsid.iloc[i]\n",
    "    fns = df1.first_nonde_strm.iloc[i]\n",
    "    initial_dict[vccsid] = fns"
   ]
  },
  {
   "cell_type": "code",
   "execution_count": 8,
   "metadata": {
    "collapsed": true
   },
   "outputs": [],
   "source": [
    "nth_dict_1 = {i:set() for i in range(1,18)}\n",
    "for i in range(enrolled_nth_1.shape[0]):\n",
    "    vccsid = enrolled_nth_1.vccsid.iloc[i]\n",
    "    nth = enrolled_nth_1.nth.iloc[i]\n",
    "    nth_dict_1[nth].add(vccsid)"
   ]
  },
  {
   "cell_type": "code",
   "execution_count": 9,
   "metadata": {
    "collapsed": true
   },
   "outputs": [],
   "source": [
    "nth_dict_2 = {i:set() for i in range(1,18)}\n",
    "for i in range(enrolled_nth_2.shape[0]):\n",
    "    vccsid = enrolled_nth_2.vccsid.iloc[i]\n",
    "    nth = enrolled_nth_2.nth.iloc[i]\n",
    "    nth_dict_2[nth].add(vccsid)"
   ]
  },
  {
   "cell_type": "code",
   "execution_count": 10,
   "metadata": {
    "collapsed": true
   },
   "outputs": [],
   "source": [
    "nth_dict_1_cp = nth_dict_1.copy()\n",
    "nth_dict_2_cp = nth_dict_2.copy()"
   ]
  },
  {
   "cell_type": "code",
   "execution_count": 12,
   "metadata": {},
   "outputs": [
    {
     "name": "stdout",
     "output_type": "stream",
     "text": [
      "nth term == 17 is sampled: 3560 out of 14452\n",
      "nth term == 16 is sampled: 4507 out of 16604\n",
      "nth term == 15 is sampled: 3229 out of 11938\n",
      "nth term == 14 is sampled: 4838 out of 15992\n",
      "nth term == 13 is sampled: 6234 out of 20244\n",
      "nth term == 12 is sampled: 4720 out of 15933\n",
      "nth term == 11 is sampled: 7580 out of 22510\n",
      "nth term == 10 is sampled: 10516 out of 29311\n",
      "nth term == 9 is sampled: 8351 out of 22872\n",
      "nth term == 8 is sampled: 13731 out of 33774\n",
      "nth term == 7 is sampled: 19759 out of 43903\n",
      "nth term == 6 is sampled: 15096 out of 31694\n",
      "nth term == 5 is sampled: 27585 out of 48712\n",
      "nth term == 4 is sampled: 38580 out of 55600\n",
      "nth term == 3 is sampled: 26651 out of 30398\n",
      "nth term == 2 is sampled: 49849 out of 49849\n",
      "nth term == 1 is sampled: 78396 out of 78396\n"
     ]
    }
   ],
   "source": [
    "### Random truncation (sampling) for training sample\n",
    "random.seed(12345)\n",
    "sample_1 = {}\n",
    "diff = 0\n",
    "for nth in range(17,0,-1):\n",
    "    tss = int(train_ss[nth]) + diff\n",
    "    pool_size = len(nth_dict_1_cp[nth])\n",
    "    if pool_size < tss:\n",
    "        sample_1[nth] = nth_dict_1_cp[nth]\n",
    "        diff = tss - pool_size\n",
    "    else:\n",
    "        sample_1[nth] = set(random.sample(nth_dict_1_cp[nth], tss))    \n",
    "    for i in range(nth,0,-1):\n",
    "        nth_dict_1_cp[i] = nth_dict_1_cp[i].difference(sample_1[nth])\n",
    "    print(\"nth term == {0} is sampled: {1} out of {2}\".format(nth,min(tss, pool_size),pool_size))"
   ]
  },
  {
   "cell_type": "markdown",
   "metadata": {},
   "source": [
    "#### The data for Table 1 of the paper"
   ]
  },
  {
   "cell_type": "code",
   "execution_count": 13,
   "metadata": {
    "collapsed": true
   },
   "outputs": [],
   "source": [
    "prop_1 = np.array([len(sample_1[i+1]) for i in range(len(sample_1))])\n",
    "prop_1 = prop_1/np.sum(prop_1)"
   ]
  },
  {
   "cell_type": "code",
   "execution_count": 14,
   "metadata": {},
   "outputs": [
    {
     "name": "stdout",
     "output_type": "stream",
     "text": [
      "nth term == 17 is sampled: 690 out of 2224\n",
      "nth term == 16 is sampled: 873 out of 2521\n",
      "nth term == 15 is sampled: 626 out of 1665\n",
      "nth term == 14 is sampled: 937 out of 2239\n",
      "nth term == 13 is sampled: 1208 out of 2977\n",
      "nth term == 12 is sampled: 915 out of 2282\n",
      "nth term == 11 is sampled: 1469 out of 3512\n",
      "nth term == 10 is sampled: 2038 out of 4589\n",
      "nth term == 9 is sampled: 1618 out of 3461\n",
      "nth term == 8 is sampled: 2660 out of 5429\n",
      "nth term == 7 is sampled: 3828 out of 7290\n",
      "nth term == 6 is sampled: 2925 out of 5109\n",
      "nth term == 5 is sampled: 5345 out of 8239\n",
      "nth term == 4 is sampled: 7475 out of 9786\n",
      "nth term == 3 is sampled: 5131 out of 5131\n",
      "nth term == 2 is sampled: 10076 out of 10107\n",
      "nth term == 1 is sampled: 14804 out of 14804\n"
     ]
    }
   ],
   "source": [
    "### Random truncation (sampling) for validation sample\n",
    "random.seed(12345)\n",
    "sample_2 = {}\n",
    "diff = 0\n",
    "for nth in range(17,0,-1):\n",
    "    vss = int(valid_ss[nth]) + diff\n",
    "    pool_size = len(nth_dict_2_cp[nth])\n",
    "    if pool_size < vss:\n",
    "        sample_2[nth] = nth_dict_2_cp[nth]\n",
    "        diff = vss - pool_size\n",
    "    else:\n",
    "        sample_2[nth] = set(random.sample(nth_dict_2_cp[nth], vss))    \n",
    "    for i in range(nth,0,-1):\n",
    "        nth_dict_2_cp[i] = nth_dict_2_cp[i].difference(sample_2[nth])\n",
    "    print(\"nth term == {0} is sampled: {1} out of {2}\".format(nth,min(vss, pool_size),pool_size))"
   ]
  },
  {
   "cell_type": "code",
   "execution_count": 15,
   "metadata": {
    "collapsed": true
   },
   "outputs": [],
   "source": [
    "prop_2 = np.array([len(sample_2[i+1]) for i in range(len(sample_2))])\n",
    "prop_2 = prop_2/np.sum(prop_2)"
   ]
  },
  {
   "cell_type": "code",
   "execution_count": 16,
   "metadata": {},
   "outputs": [
    {
     "name": "stdout",
     "output_type": "stream",
     "text": [
      "    nth_term  crnt_cohorts  truncated_train  truncated_validation\n",
      "0          1        0.2364           0.2426                0.2364\n",
      "1          2        0.1604           0.1542                0.1609\n",
      "2          3        0.0825           0.0825                0.0819\n",
      "3          4        0.1194           0.1194                0.1194\n",
      "4          5        0.0854           0.0854                0.0854\n",
      "5          6        0.0467           0.0467                0.0467\n",
      "6          7        0.0611           0.0611                0.0611\n",
      "7          8        0.0425           0.0425                0.0425\n",
      "8          9        0.0258           0.0258                0.0258\n",
      "9         10        0.0325           0.0325                0.0325\n",
      "10        11        0.0235           0.0235                0.0235\n",
      "11        12        0.0146           0.0146                0.0146\n",
      "12        13        0.0193           0.0193                0.0193\n",
      "13        14        0.0150           0.0150                0.0150\n",
      "14        15        0.0100           0.0100                0.0100\n",
      "15        16        0.0139           0.0139                0.0139\n",
      "16        17        0.0110           0.0110                0.0110\n"
     ]
    }
   ],
   "source": [
    "prop_df = pd.DataFrame({\"nth_term\": range(1,18),\n",
    "                        \"crnt_cohorts\": np.round(truncation_ss.prop,4), \n",
    "                        \"truncated_train\": np.round(prop_1,4),\n",
    "                        \"truncated_validation\": np.round(prop_2,4)})\\\n",
    ".loc[:,['nth_term', 'crnt_cohorts', 'truncated_train', 'truncated_validation']]\n",
    "print(prop_df)"
   ]
  },
  {
   "cell_type": "code",
   "execution_count": 18,
   "metadata": {
    "collapsed": true
   },
   "outputs": [],
   "source": [
    "prop_df.to_csv(fpath + \"proportion_after_truncation.csv\", index=False)"
   ]
  },
  {
   "cell_type": "markdown",
   "metadata": {},
   "source": [
    "#### Find the end term of each observation after truncation"
   ]
  },
  {
   "cell_type": "code",
   "execution_count": 19,
   "metadata": {},
   "outputs": [
    {
     "name": "stdout",
     "output_type": "stream",
     "text": [
      "323182 62618\n"
     ]
    }
   ],
   "source": [
    "new_nth_dict = {}\n",
    "s1 = 0\n",
    "for k,v in sample_1.items():\n",
    "    s1 += len(v)\n",
    "    for vccsid in v:\n",
    "        new_nth_dict[vccsid] = k\n",
    "s2 = 0\n",
    "for k,v in sample_2.items():\n",
    "    s2 += len(v)\n",
    "    for vccsid in v:\n",
    "        new_nth_dict[vccsid] = k\n",
    "print(s1,s2)"
   ]
  },
  {
   "cell_type": "code",
   "execution_count": 20,
   "metadata": {
    "collapsed": true
   },
   "outputs": [],
   "source": [
    "old_nth_df = enrolled_nth.groupby(['vccsid', 'first_nonde_strm']).agg({'nth':'max'}).reset_index()\n",
    "new_nth_df = pd.DataFrame.from_dict(new_nth_dict, orient=\"index\").reset_index().rename(columns={0:\"new_nth\", 'index':'vccsid'})\n",
    "final_nth_df = old_nth_df.merge(new_nth_df, on=['vccsid'], how='inner').merge(valid_ind, on=['vccsid'], how='inner').sort_values(['vccsid'])"
   ]
  },
  {
   "cell_type": "code",
   "execution_count": 21,
   "metadata": {
    "collapsed": true
   },
   "outputs": [],
   "source": [
    "final_nth_df.loc[:,'truncated'] = final_nth_df.apply(lambda r: int(r.loc['nth'] > r.loc['new_nth']), axis=1)"
   ]
  },
  {
   "cell_type": "code",
   "execution_count": 22,
   "metadata": {},
   "outputs": [
    {
     "data": {
      "text/html": [
       "<div>\n",
       "<style scoped>\n",
       "    .dataframe tbody tr th:only-of-type {\n",
       "        vertical-align: middle;\n",
       "    }\n",
       "\n",
       "    .dataframe tbody tr th {\n",
       "        vertical-align: top;\n",
       "    }\n",
       "\n",
       "    .dataframe thead th {\n",
       "        text-align: right;\n",
       "    }\n",
       "</style>\n",
       "<table border=\"1\" class=\"dataframe\">\n",
       "  <thead>\n",
       "    <tr style=\"text-align: right;\">\n",
       "      <th></th>\n",
       "      <th>truncated</th>\n",
       "    </tr>\n",
       "    <tr>\n",
       "      <th>valid</th>\n",
       "      <th></th>\n",
       "    </tr>\n",
       "  </thead>\n",
       "  <tbody>\n",
       "    <tr>\n",
       "      <th>0.0</th>\n",
       "      <td>0.361740</td>\n",
       "    </tr>\n",
       "    <tr>\n",
       "      <th>1.0</th>\n",
       "      <td>0.275783</td>\n",
       "    </tr>\n",
       "  </tbody>\n",
       "</table>\n",
       "</div>"
      ],
      "text/plain": [
       "       truncated\n",
       "valid           \n",
       "0.0     0.361740\n",
       "1.0     0.275783"
      ]
     },
     "execution_count": 22,
     "metadata": {},
     "output_type": "execute_result"
    }
   ],
   "source": [
    "final_nth_df.groupby(['valid']).agg({'truncated':'mean'})"
   ]
  },
  {
   "cell_type": "code",
   "execution_count": 23,
   "metadata": {},
   "outputs": [
    {
     "name": "stdout",
     "output_type": "stream",
     "text": [
      "4.76 4.77\n"
     ]
    }
   ],
   "source": [
    "print(np.round(final_nth_df[final_nth_df.valid==0].new_nth.mean(), 2),\n",
    "      np.round(final_nth_df[final_nth_df.valid==1].new_nth.mean(), 2))"
   ]
  },
  {
   "cell_type": "code",
   "execution_count": 24,
   "metadata": {
    "collapsed": true
   },
   "outputs": [],
   "source": [
    "final_nth_df = final_nth_df.drop(['nth'], axis=1)"
   ]
  },
  {
   "cell_type": "code",
   "execution_count": 25,
   "metadata": {
    "collapsed": true
   },
   "outputs": [],
   "source": [
    "final_nth_df.loc[:,'yr'] = (final_nth_df.new_nth-1) // 3\n",
    "final_nth_df.loc[:,'t'] = (final_nth_df.new_nth-1) % 3"
   ]
  },
  {
   "cell_type": "code",
   "execution_count": 26,
   "metadata": {
    "collapsed": true
   },
   "outputs": [],
   "source": [
    "final_nth_df.loc[:,'last_term'] = final_nth_df.first_nonde_strm + 10*final_nth_df.yr"
   ]
  },
  {
   "cell_type": "code",
   "execution_count": 27,
   "metadata": {
    "collapsed": true
   },
   "outputs": [],
   "source": [
    "final_nth_df.loc[:,'last_term'] = final_nth_df.last_term + final_nth_df.t"
   ]
  },
  {
   "cell_type": "code",
   "execution_count": 28,
   "metadata": {
    "collapsed": true
   },
   "outputs": [],
   "source": [
    "final_nth_df.loc[:,'last_term'] = final_nth_df.last_term.apply(lambda x: x+7 if x % 10 == 5 or x % 10 == 6 else x)"
   ]
  },
  {
   "cell_type": "code",
   "execution_count": 29,
   "metadata": {
    "collapsed": true
   },
   "outputs": [],
   "source": [
    "final_nth_df = final_nth_df.loc[:,['vccsid', 'first_nonde_strm', 'last_term', 'truncated','new_nth']]\\\n",
    ".rename(columns={'new_nth':'nth'})"
   ]
  },
  {
   "cell_type": "code",
   "execution_count": 30,
   "metadata": {
    "collapsed": true
   },
   "outputs": [],
   "source": [
    "final_nth_df.sort_values(['vccsid']).to_stata(fpath + \"truncation_nth_df.dta\", write_index=False)"
   ]
  },
  {
   "cell_type": "code",
   "execution_count": 31,
   "metadata": {},
   "outputs": [
    {
     "data": {
      "text/plain": [
       "Counter({1: 93200,\n",
       "         2: 59925,\n",
       "         3: 31782,\n",
       "         4: 46055,\n",
       "         5: 32930,\n",
       "         6: 18021,\n",
       "         7: 23587,\n",
       "         8: 16391,\n",
       "         9: 9969,\n",
       "         10: 12554,\n",
       "         11: 9049,\n",
       "         12: 5635,\n",
       "         13: 7442,\n",
       "         14: 5775,\n",
       "         15: 3855,\n",
       "         16: 5380,\n",
       "         17: 4250})"
      ]
     },
     "execution_count": 31,
     "metadata": {},
     "output_type": "execute_result"
    }
   ],
   "source": [
    "Counter(final_nth_df.nth)"
   ]
  },
  {
   "cell_type": "markdown",
   "metadata": {},
   "source": [
    "#### Sanity check: dropped students"
   ]
  },
  {
   "cell_type": "code",
   "execution_count": 32,
   "metadata": {
    "collapsed": true
   },
   "outputs": [],
   "source": [
    "enrolled_terms = pd.read_stata(\"C:\\\\Users\\\\ys8mz\\\\Box Sync\\\\Predictive Models of College Completion (VCCS)\\\\dta\\\\new\\\\student_level_sample_and_outcomes.dta\").loc[:,['vccsid', 'first_nonde_strm', 'first_degree_strm']]"
   ]
  },
  {
   "cell_type": "code",
   "execution_count": 33,
   "metadata": {
    "collapsed": true
   },
   "outputs": [],
   "source": [
    "enrolled_nth_1_new = valid_ind[valid_ind.valid == 0].merge(enrolled_nth, on=['vccsid'], how='left')\n",
    "enrolled_nth_1_new = enrolled_nth_1_new[pd.isnull(enrolled_nth_1_new.nth)].loc[:,['vccsid']]\n",
    "enrolled_nth_1_new = enrolled_nth_1_new.merge(enrolled_terms, on=['vccsid'], how='left')\n",
    "assert (enrolled_nth_1_new.first_nonde_strm == enrolled_nth_1_new.first_degree_strm).all()"
   ]
  },
  {
   "cell_type": "code",
   "execution_count": 34,
   "metadata": {
    "collapsed": true
   },
   "outputs": [],
   "source": [
    "enrolled_nth_2_new = valid_ind[valid_ind.valid == 1].merge(enrolled_nth, on=['vccsid'], how='left')\n",
    "enrolled_nth_2_new = enrolled_nth_2_new[pd.isnull(enrolled_nth_2_new.nth)].loc[:,['vccsid']]\n",
    "enrolled_nth_2_new = enrolled_nth_2_new.merge(enrolled_terms, on=['vccsid'], how='left')\n",
    "assert (enrolled_nth_2_new.first_nonde_strm == enrolled_nth_2_new.first_degree_strm).all()"
   ]
  },
  {
   "cell_type": "code",
   "execution_count": null,
   "metadata": {
    "collapsed": true
   },
   "outputs": [],
   "source": []
  }
 ],
 "metadata": {
  "kernelspec": {
   "display_name": "Python 3",
   "language": "python",
   "name": "python3"
  },
  "language_info": {
   "codemirror_mode": {
    "name": "ipython",
    "version": 3
   },
   "file_extension": ".py",
   "mimetype": "text/x-python",
   "name": "python",
   "nbconvert_exporter": "python",
   "pygments_lexer": "ipython3",
   "version": "3.5.3"
  }
 },
 "nbformat": 4,
 "nbformat_minor": 2
}
